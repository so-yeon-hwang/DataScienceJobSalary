{
  "nbformat": 4,
  "nbformat_minor": 0,
  "metadata": {
    "colab": {
      "provenance": [],
      "include_colab_link": true
    },
    "kernelspec": {
      "name": "python3",
      "display_name": "Python 3"
    },
    "accelerator": "GPU",
    "widgets": {
      "application/vnd.jupyter.widget-state+json": {
        "5f119bdd5db54f63a909477c990e5195": {
          "model_module": "@jupyter-widgets/controls",
          "model_name": "HBoxModel",
          "model_module_version": "1.5.0",
          "state": {
            "_dom_classes": [],
            "_model_module": "@jupyter-widgets/controls",
            "_model_module_version": "1.5.0",
            "_model_name": "HBoxModel",
            "_view_count": null,
            "_view_module": "@jupyter-widgets/controls",
            "_view_module_version": "1.5.0",
            "_view_name": "HBoxView",
            "box_style": "",
            "children": [
              "IPY_MODEL_de45bec5bd114d46991170e795e212c4",
              "IPY_MODEL_a5a349a1df1141adb0d7d1e74e25bc8c",
              "IPY_MODEL_95220921f98e472fab01691c07345f1d"
            ],
            "layout": "IPY_MODEL_6c32832eb26e4267ac7f8bd138213bb1"
          }
        },
        "de45bec5bd114d46991170e795e212c4": {
          "model_module": "@jupyter-widgets/controls",
          "model_name": "HTMLModel",
          "model_module_version": "1.5.0",
          "state": {
            "_dom_classes": [],
            "_model_module": "@jupyter-widgets/controls",
            "_model_module_version": "1.5.0",
            "_model_name": "HTMLModel",
            "_view_count": null,
            "_view_module": "@jupyter-widgets/controls",
            "_view_module_version": "1.5.0",
            "_view_name": "HTMLView",
            "description": "",
            "description_tooltip": null,
            "layout": "IPY_MODEL_37221c4b74354809a1f99d55797ed31a",
            "placeholder": "​",
            "style": "IPY_MODEL_a3c391d19c6b45438ecbb818d2d0c854",
            "value": "100%"
          }
        },
        "a5a349a1df1141adb0d7d1e74e25bc8c": {
          "model_module": "@jupyter-widgets/controls",
          "model_name": "FloatProgressModel",
          "model_module_version": "1.5.0",
          "state": {
            "_dom_classes": [],
            "_model_module": "@jupyter-widgets/controls",
            "_model_module_version": "1.5.0",
            "_model_name": "FloatProgressModel",
            "_view_count": null,
            "_view_module": "@jupyter-widgets/controls",
            "_view_module_version": "1.5.0",
            "_view_name": "ProgressView",
            "bar_style": "success",
            "description": "",
            "description_tooltip": null,
            "layout": "IPY_MODEL_9f377dae95324f23a139049a30874362",
            "max": 9912422,
            "min": 0,
            "orientation": "horizontal",
            "style": "IPY_MODEL_fd49d2c70c304fdcb1f09c3ee0049414",
            "value": 9912422
          }
        },
        "95220921f98e472fab01691c07345f1d": {
          "model_module": "@jupyter-widgets/controls",
          "model_name": "HTMLModel",
          "model_module_version": "1.5.0",
          "state": {
            "_dom_classes": [],
            "_model_module": "@jupyter-widgets/controls",
            "_model_module_version": "1.5.0",
            "_model_name": "HTMLModel",
            "_view_count": null,
            "_view_module": "@jupyter-widgets/controls",
            "_view_module_version": "1.5.0",
            "_view_name": "HTMLView",
            "description": "",
            "description_tooltip": null,
            "layout": "IPY_MODEL_093eb47e90c5462698a1359820381408",
            "placeholder": "​",
            "style": "IPY_MODEL_c6056d02ccb541528fa76208cd666221",
            "value": " 9912422/9912422 [00:00&lt;00:00, 219376055.28it/s]"
          }
        },
        "6c32832eb26e4267ac7f8bd138213bb1": {
          "model_module": "@jupyter-widgets/base",
          "model_name": "LayoutModel",
          "model_module_version": "1.2.0",
          "state": {
            "_model_module": "@jupyter-widgets/base",
            "_model_module_version": "1.2.0",
            "_model_name": "LayoutModel",
            "_view_count": null,
            "_view_module": "@jupyter-widgets/base",
            "_view_module_version": "1.2.0",
            "_view_name": "LayoutView",
            "align_content": null,
            "align_items": null,
            "align_self": null,
            "border": null,
            "bottom": null,
            "display": null,
            "flex": null,
            "flex_flow": null,
            "grid_area": null,
            "grid_auto_columns": null,
            "grid_auto_flow": null,
            "grid_auto_rows": null,
            "grid_column": null,
            "grid_gap": null,
            "grid_row": null,
            "grid_template_areas": null,
            "grid_template_columns": null,
            "grid_template_rows": null,
            "height": null,
            "justify_content": null,
            "justify_items": null,
            "left": null,
            "margin": null,
            "max_height": null,
            "max_width": null,
            "min_height": null,
            "min_width": null,
            "object_fit": null,
            "object_position": null,
            "order": null,
            "overflow": null,
            "overflow_x": null,
            "overflow_y": null,
            "padding": null,
            "right": null,
            "top": null,
            "visibility": null,
            "width": null
          }
        },
        "37221c4b74354809a1f99d55797ed31a": {
          "model_module": "@jupyter-widgets/base",
          "model_name": "LayoutModel",
          "model_module_version": "1.2.0",
          "state": {
            "_model_module": "@jupyter-widgets/base",
            "_model_module_version": "1.2.0",
            "_model_name": "LayoutModel",
            "_view_count": null,
            "_view_module": "@jupyter-widgets/base",
            "_view_module_version": "1.2.0",
            "_view_name": "LayoutView",
            "align_content": null,
            "align_items": null,
            "align_self": null,
            "border": null,
            "bottom": null,
            "display": null,
            "flex": null,
            "flex_flow": null,
            "grid_area": null,
            "grid_auto_columns": null,
            "grid_auto_flow": null,
            "grid_auto_rows": null,
            "grid_column": null,
            "grid_gap": null,
            "grid_row": null,
            "grid_template_areas": null,
            "grid_template_columns": null,
            "grid_template_rows": null,
            "height": null,
            "justify_content": null,
            "justify_items": null,
            "left": null,
            "margin": null,
            "max_height": null,
            "max_width": null,
            "min_height": null,
            "min_width": null,
            "object_fit": null,
            "object_position": null,
            "order": null,
            "overflow": null,
            "overflow_x": null,
            "overflow_y": null,
            "padding": null,
            "right": null,
            "top": null,
            "visibility": null,
            "width": null
          }
        },
        "a3c391d19c6b45438ecbb818d2d0c854": {
          "model_module": "@jupyter-widgets/controls",
          "model_name": "DescriptionStyleModel",
          "model_module_version": "1.5.0",
          "state": {
            "_model_module": "@jupyter-widgets/controls",
            "_model_module_version": "1.5.0",
            "_model_name": "DescriptionStyleModel",
            "_view_count": null,
            "_view_module": "@jupyter-widgets/base",
            "_view_module_version": "1.2.0",
            "_view_name": "StyleView",
            "description_width": ""
          }
        },
        "9f377dae95324f23a139049a30874362": {
          "model_module": "@jupyter-widgets/base",
          "model_name": "LayoutModel",
          "model_module_version": "1.2.0",
          "state": {
            "_model_module": "@jupyter-widgets/base",
            "_model_module_version": "1.2.0",
            "_model_name": "LayoutModel",
            "_view_count": null,
            "_view_module": "@jupyter-widgets/base",
            "_view_module_version": "1.2.0",
            "_view_name": "LayoutView",
            "align_content": null,
            "align_items": null,
            "align_self": null,
            "border": null,
            "bottom": null,
            "display": null,
            "flex": null,
            "flex_flow": null,
            "grid_area": null,
            "grid_auto_columns": null,
            "grid_auto_flow": null,
            "grid_auto_rows": null,
            "grid_column": null,
            "grid_gap": null,
            "grid_row": null,
            "grid_template_areas": null,
            "grid_template_columns": null,
            "grid_template_rows": null,
            "height": null,
            "justify_content": null,
            "justify_items": null,
            "left": null,
            "margin": null,
            "max_height": null,
            "max_width": null,
            "min_height": null,
            "min_width": null,
            "object_fit": null,
            "object_position": null,
            "order": null,
            "overflow": null,
            "overflow_x": null,
            "overflow_y": null,
            "padding": null,
            "right": null,
            "top": null,
            "visibility": null,
            "width": null
          }
        },
        "fd49d2c70c304fdcb1f09c3ee0049414": {
          "model_module": "@jupyter-widgets/controls",
          "model_name": "ProgressStyleModel",
          "model_module_version": "1.5.0",
          "state": {
            "_model_module": "@jupyter-widgets/controls",
            "_model_module_version": "1.5.0",
            "_model_name": "ProgressStyleModel",
            "_view_count": null,
            "_view_module": "@jupyter-widgets/base",
            "_view_module_version": "1.2.0",
            "_view_name": "StyleView",
            "bar_color": null,
            "description_width": ""
          }
        },
        "093eb47e90c5462698a1359820381408": {
          "model_module": "@jupyter-widgets/base",
          "model_name": "LayoutModel",
          "model_module_version": "1.2.0",
          "state": {
            "_model_module": "@jupyter-widgets/base",
            "_model_module_version": "1.2.0",
            "_model_name": "LayoutModel",
            "_view_count": null,
            "_view_module": "@jupyter-widgets/base",
            "_view_module_version": "1.2.0",
            "_view_name": "LayoutView",
            "align_content": null,
            "align_items": null,
            "align_self": null,
            "border": null,
            "bottom": null,
            "display": null,
            "flex": null,
            "flex_flow": null,
            "grid_area": null,
            "grid_auto_columns": null,
            "grid_auto_flow": null,
            "grid_auto_rows": null,
            "grid_column": null,
            "grid_gap": null,
            "grid_row": null,
            "grid_template_areas": null,
            "grid_template_columns": null,
            "grid_template_rows": null,
            "height": null,
            "justify_content": null,
            "justify_items": null,
            "left": null,
            "margin": null,
            "max_height": null,
            "max_width": null,
            "min_height": null,
            "min_width": null,
            "object_fit": null,
            "object_position": null,
            "order": null,
            "overflow": null,
            "overflow_x": null,
            "overflow_y": null,
            "padding": null,
            "right": null,
            "top": null,
            "visibility": null,
            "width": null
          }
        },
        "c6056d02ccb541528fa76208cd666221": {
          "model_module": "@jupyter-widgets/controls",
          "model_name": "DescriptionStyleModel",
          "model_module_version": "1.5.0",
          "state": {
            "_model_module": "@jupyter-widgets/controls",
            "_model_module_version": "1.5.0",
            "_model_name": "DescriptionStyleModel",
            "_view_count": null,
            "_view_module": "@jupyter-widgets/base",
            "_view_module_version": "1.2.0",
            "_view_name": "StyleView",
            "description_width": ""
          }
        },
        "d3d3049e79d04d69b0c3bf49b3aed242": {
          "model_module": "@jupyter-widgets/controls",
          "model_name": "HBoxModel",
          "model_module_version": "1.5.0",
          "state": {
            "_dom_classes": [],
            "_model_module": "@jupyter-widgets/controls",
            "_model_module_version": "1.5.0",
            "_model_name": "HBoxModel",
            "_view_count": null,
            "_view_module": "@jupyter-widgets/controls",
            "_view_module_version": "1.5.0",
            "_view_name": "HBoxView",
            "box_style": "",
            "children": [
              "IPY_MODEL_f04b07a3ee014e52ae4c614544f6c673",
              "IPY_MODEL_068d363e75384d02b2a30dca581d4f97",
              "IPY_MODEL_05214a51433c413aafdb96afe8302979"
            ],
            "layout": "IPY_MODEL_396045354bc740c18b310fe965b56409"
          }
        },
        "f04b07a3ee014e52ae4c614544f6c673": {
          "model_module": "@jupyter-widgets/controls",
          "model_name": "HTMLModel",
          "model_module_version": "1.5.0",
          "state": {
            "_dom_classes": [],
            "_model_module": "@jupyter-widgets/controls",
            "_model_module_version": "1.5.0",
            "_model_name": "HTMLModel",
            "_view_count": null,
            "_view_module": "@jupyter-widgets/controls",
            "_view_module_version": "1.5.0",
            "_view_name": "HTMLView",
            "description": "",
            "description_tooltip": null,
            "layout": "IPY_MODEL_cbc1e54393f24e8094e48f6e7f12561b",
            "placeholder": "​",
            "style": "IPY_MODEL_43dd6526b9534932a79553cbb3afd7d8",
            "value": "100%"
          }
        },
        "068d363e75384d02b2a30dca581d4f97": {
          "model_module": "@jupyter-widgets/controls",
          "model_name": "FloatProgressModel",
          "model_module_version": "1.5.0",
          "state": {
            "_dom_classes": [],
            "_model_module": "@jupyter-widgets/controls",
            "_model_module_version": "1.5.0",
            "_model_name": "FloatProgressModel",
            "_view_count": null,
            "_view_module": "@jupyter-widgets/controls",
            "_view_module_version": "1.5.0",
            "_view_name": "ProgressView",
            "bar_style": "success",
            "description": "",
            "description_tooltip": null,
            "layout": "IPY_MODEL_23341cdaff2847eea18df3b30b5af361",
            "max": 28881,
            "min": 0,
            "orientation": "horizontal",
            "style": "IPY_MODEL_f316d9eb760a41e8aa099e78d6e33c68",
            "value": 28881
          }
        },
        "05214a51433c413aafdb96afe8302979": {
          "model_module": "@jupyter-widgets/controls",
          "model_name": "HTMLModel",
          "model_module_version": "1.5.0",
          "state": {
            "_dom_classes": [],
            "_model_module": "@jupyter-widgets/controls",
            "_model_module_version": "1.5.0",
            "_model_name": "HTMLModel",
            "_view_count": null,
            "_view_module": "@jupyter-widgets/controls",
            "_view_module_version": "1.5.0",
            "_view_name": "HTMLView",
            "description": "",
            "description_tooltip": null,
            "layout": "IPY_MODEL_10bcf85f7772436986c2d2a6468341c1",
            "placeholder": "​",
            "style": "IPY_MODEL_f1b29c9d88f84143a57885d4d2a60620",
            "value": " 28881/28881 [00:00&lt;00:00, 1840156.98it/s]"
          }
        },
        "396045354bc740c18b310fe965b56409": {
          "model_module": "@jupyter-widgets/base",
          "model_name": "LayoutModel",
          "model_module_version": "1.2.0",
          "state": {
            "_model_module": "@jupyter-widgets/base",
            "_model_module_version": "1.2.0",
            "_model_name": "LayoutModel",
            "_view_count": null,
            "_view_module": "@jupyter-widgets/base",
            "_view_module_version": "1.2.0",
            "_view_name": "LayoutView",
            "align_content": null,
            "align_items": null,
            "align_self": null,
            "border": null,
            "bottom": null,
            "display": null,
            "flex": null,
            "flex_flow": null,
            "grid_area": null,
            "grid_auto_columns": null,
            "grid_auto_flow": null,
            "grid_auto_rows": null,
            "grid_column": null,
            "grid_gap": null,
            "grid_row": null,
            "grid_template_areas": null,
            "grid_template_columns": null,
            "grid_template_rows": null,
            "height": null,
            "justify_content": null,
            "justify_items": null,
            "left": null,
            "margin": null,
            "max_height": null,
            "max_width": null,
            "min_height": null,
            "min_width": null,
            "object_fit": null,
            "object_position": null,
            "order": null,
            "overflow": null,
            "overflow_x": null,
            "overflow_y": null,
            "padding": null,
            "right": null,
            "top": null,
            "visibility": null,
            "width": null
          }
        },
        "cbc1e54393f24e8094e48f6e7f12561b": {
          "model_module": "@jupyter-widgets/base",
          "model_name": "LayoutModel",
          "model_module_version": "1.2.0",
          "state": {
            "_model_module": "@jupyter-widgets/base",
            "_model_module_version": "1.2.0",
            "_model_name": "LayoutModel",
            "_view_count": null,
            "_view_module": "@jupyter-widgets/base",
            "_view_module_version": "1.2.0",
            "_view_name": "LayoutView",
            "align_content": null,
            "align_items": null,
            "align_self": null,
            "border": null,
            "bottom": null,
            "display": null,
            "flex": null,
            "flex_flow": null,
            "grid_area": null,
            "grid_auto_columns": null,
            "grid_auto_flow": null,
            "grid_auto_rows": null,
            "grid_column": null,
            "grid_gap": null,
            "grid_row": null,
            "grid_template_areas": null,
            "grid_template_columns": null,
            "grid_template_rows": null,
            "height": null,
            "justify_content": null,
            "justify_items": null,
            "left": null,
            "margin": null,
            "max_height": null,
            "max_width": null,
            "min_height": null,
            "min_width": null,
            "object_fit": null,
            "object_position": null,
            "order": null,
            "overflow": null,
            "overflow_x": null,
            "overflow_y": null,
            "padding": null,
            "right": null,
            "top": null,
            "visibility": null,
            "width": null
          }
        },
        "43dd6526b9534932a79553cbb3afd7d8": {
          "model_module": "@jupyter-widgets/controls",
          "model_name": "DescriptionStyleModel",
          "model_module_version": "1.5.0",
          "state": {
            "_model_module": "@jupyter-widgets/controls",
            "_model_module_version": "1.5.0",
            "_model_name": "DescriptionStyleModel",
            "_view_count": null,
            "_view_module": "@jupyter-widgets/base",
            "_view_module_version": "1.2.0",
            "_view_name": "StyleView",
            "description_width": ""
          }
        },
        "23341cdaff2847eea18df3b30b5af361": {
          "model_module": "@jupyter-widgets/base",
          "model_name": "LayoutModel",
          "model_module_version": "1.2.0",
          "state": {
            "_model_module": "@jupyter-widgets/base",
            "_model_module_version": "1.2.0",
            "_model_name": "LayoutModel",
            "_view_count": null,
            "_view_module": "@jupyter-widgets/base",
            "_view_module_version": "1.2.0",
            "_view_name": "LayoutView",
            "align_content": null,
            "align_items": null,
            "align_self": null,
            "border": null,
            "bottom": null,
            "display": null,
            "flex": null,
            "flex_flow": null,
            "grid_area": null,
            "grid_auto_columns": null,
            "grid_auto_flow": null,
            "grid_auto_rows": null,
            "grid_column": null,
            "grid_gap": null,
            "grid_row": null,
            "grid_template_areas": null,
            "grid_template_columns": null,
            "grid_template_rows": null,
            "height": null,
            "justify_content": null,
            "justify_items": null,
            "left": null,
            "margin": null,
            "max_height": null,
            "max_width": null,
            "min_height": null,
            "min_width": null,
            "object_fit": null,
            "object_position": null,
            "order": null,
            "overflow": null,
            "overflow_x": null,
            "overflow_y": null,
            "padding": null,
            "right": null,
            "top": null,
            "visibility": null,
            "width": null
          }
        },
        "f316d9eb760a41e8aa099e78d6e33c68": {
          "model_module": "@jupyter-widgets/controls",
          "model_name": "ProgressStyleModel",
          "model_module_version": "1.5.0",
          "state": {
            "_model_module": "@jupyter-widgets/controls",
            "_model_module_version": "1.5.0",
            "_model_name": "ProgressStyleModel",
            "_view_count": null,
            "_view_module": "@jupyter-widgets/base",
            "_view_module_version": "1.2.0",
            "_view_name": "StyleView",
            "bar_color": null,
            "description_width": ""
          }
        },
        "10bcf85f7772436986c2d2a6468341c1": {
          "model_module": "@jupyter-widgets/base",
          "model_name": "LayoutModel",
          "model_module_version": "1.2.0",
          "state": {
            "_model_module": "@jupyter-widgets/base",
            "_model_module_version": "1.2.0",
            "_model_name": "LayoutModel",
            "_view_count": null,
            "_view_module": "@jupyter-widgets/base",
            "_view_module_version": "1.2.0",
            "_view_name": "LayoutView",
            "align_content": null,
            "align_items": null,
            "align_self": null,
            "border": null,
            "bottom": null,
            "display": null,
            "flex": null,
            "flex_flow": null,
            "grid_area": null,
            "grid_auto_columns": null,
            "grid_auto_flow": null,
            "grid_auto_rows": null,
            "grid_column": null,
            "grid_gap": null,
            "grid_row": null,
            "grid_template_areas": null,
            "grid_template_columns": null,
            "grid_template_rows": null,
            "height": null,
            "justify_content": null,
            "justify_items": null,
            "left": null,
            "margin": null,
            "max_height": null,
            "max_width": null,
            "min_height": null,
            "min_width": null,
            "object_fit": null,
            "object_position": null,
            "order": null,
            "overflow": null,
            "overflow_x": null,
            "overflow_y": null,
            "padding": null,
            "right": null,
            "top": null,
            "visibility": null,
            "width": null
          }
        },
        "f1b29c9d88f84143a57885d4d2a60620": {
          "model_module": "@jupyter-widgets/controls",
          "model_name": "DescriptionStyleModel",
          "model_module_version": "1.5.0",
          "state": {
            "_model_module": "@jupyter-widgets/controls",
            "_model_module_version": "1.5.0",
            "_model_name": "DescriptionStyleModel",
            "_view_count": null,
            "_view_module": "@jupyter-widgets/base",
            "_view_module_version": "1.2.0",
            "_view_name": "StyleView",
            "description_width": ""
          }
        },
        "c207da93c40c4d069f452563dd02d189": {
          "model_module": "@jupyter-widgets/controls",
          "model_name": "HBoxModel",
          "model_module_version": "1.5.0",
          "state": {
            "_dom_classes": [],
            "_model_module": "@jupyter-widgets/controls",
            "_model_module_version": "1.5.0",
            "_model_name": "HBoxModel",
            "_view_count": null,
            "_view_module": "@jupyter-widgets/controls",
            "_view_module_version": "1.5.0",
            "_view_name": "HBoxView",
            "box_style": "",
            "children": [
              "IPY_MODEL_e17e3aa8eb06424794f741bf50738d13",
              "IPY_MODEL_21ace1986feb492aa5bdda2116080f2c",
              "IPY_MODEL_b4d223a53afb4eef881cc904d494f09b"
            ],
            "layout": "IPY_MODEL_5bab4e509b2447f192cdd738a7a633c6"
          }
        },
        "e17e3aa8eb06424794f741bf50738d13": {
          "model_module": "@jupyter-widgets/controls",
          "model_name": "HTMLModel",
          "model_module_version": "1.5.0",
          "state": {
            "_dom_classes": [],
            "_model_module": "@jupyter-widgets/controls",
            "_model_module_version": "1.5.0",
            "_model_name": "HTMLModel",
            "_view_count": null,
            "_view_module": "@jupyter-widgets/controls",
            "_view_module_version": "1.5.0",
            "_view_name": "HTMLView",
            "description": "",
            "description_tooltip": null,
            "layout": "IPY_MODEL_2477b75900284d85b3f610c2141faead",
            "placeholder": "​",
            "style": "IPY_MODEL_d4d4dd882b634b9d97d826057e09677b",
            "value": "100%"
          }
        },
        "21ace1986feb492aa5bdda2116080f2c": {
          "model_module": "@jupyter-widgets/controls",
          "model_name": "FloatProgressModel",
          "model_module_version": "1.5.0",
          "state": {
            "_dom_classes": [],
            "_model_module": "@jupyter-widgets/controls",
            "_model_module_version": "1.5.0",
            "_model_name": "FloatProgressModel",
            "_view_count": null,
            "_view_module": "@jupyter-widgets/controls",
            "_view_module_version": "1.5.0",
            "_view_name": "ProgressView",
            "bar_style": "success",
            "description": "",
            "description_tooltip": null,
            "layout": "IPY_MODEL_061de9886a8f41759959fba05acbc1b8",
            "max": 1648877,
            "min": 0,
            "orientation": "horizontal",
            "style": "IPY_MODEL_6e68e68d7d4446e690b00b970f4789b2",
            "value": 1648877
          }
        },
        "b4d223a53afb4eef881cc904d494f09b": {
          "model_module": "@jupyter-widgets/controls",
          "model_name": "HTMLModel",
          "model_module_version": "1.5.0",
          "state": {
            "_dom_classes": [],
            "_model_module": "@jupyter-widgets/controls",
            "_model_module_version": "1.5.0",
            "_model_name": "HTMLModel",
            "_view_count": null,
            "_view_module": "@jupyter-widgets/controls",
            "_view_module_version": "1.5.0",
            "_view_name": "HTMLView",
            "description": "",
            "description_tooltip": null,
            "layout": "IPY_MODEL_daca56ab537e43f88afb8165a11740a5",
            "placeholder": "​",
            "style": "IPY_MODEL_cfa95fcad7dc4e83913a2e7e87aa14fb",
            "value": " 1648877/1648877 [00:00&lt;00:00, 61161443.60it/s]"
          }
        },
        "5bab4e509b2447f192cdd738a7a633c6": {
          "model_module": "@jupyter-widgets/base",
          "model_name": "LayoutModel",
          "model_module_version": "1.2.0",
          "state": {
            "_model_module": "@jupyter-widgets/base",
            "_model_module_version": "1.2.0",
            "_model_name": "LayoutModel",
            "_view_count": null,
            "_view_module": "@jupyter-widgets/base",
            "_view_module_version": "1.2.0",
            "_view_name": "LayoutView",
            "align_content": null,
            "align_items": null,
            "align_self": null,
            "border": null,
            "bottom": null,
            "display": null,
            "flex": null,
            "flex_flow": null,
            "grid_area": null,
            "grid_auto_columns": null,
            "grid_auto_flow": null,
            "grid_auto_rows": null,
            "grid_column": null,
            "grid_gap": null,
            "grid_row": null,
            "grid_template_areas": null,
            "grid_template_columns": null,
            "grid_template_rows": null,
            "height": null,
            "justify_content": null,
            "justify_items": null,
            "left": null,
            "margin": null,
            "max_height": null,
            "max_width": null,
            "min_height": null,
            "min_width": null,
            "object_fit": null,
            "object_position": null,
            "order": null,
            "overflow": null,
            "overflow_x": null,
            "overflow_y": null,
            "padding": null,
            "right": null,
            "top": null,
            "visibility": null,
            "width": null
          }
        },
        "2477b75900284d85b3f610c2141faead": {
          "model_module": "@jupyter-widgets/base",
          "model_name": "LayoutModel",
          "model_module_version": "1.2.0",
          "state": {
            "_model_module": "@jupyter-widgets/base",
            "_model_module_version": "1.2.0",
            "_model_name": "LayoutModel",
            "_view_count": null,
            "_view_module": "@jupyter-widgets/base",
            "_view_module_version": "1.2.0",
            "_view_name": "LayoutView",
            "align_content": null,
            "align_items": null,
            "align_self": null,
            "border": null,
            "bottom": null,
            "display": null,
            "flex": null,
            "flex_flow": null,
            "grid_area": null,
            "grid_auto_columns": null,
            "grid_auto_flow": null,
            "grid_auto_rows": null,
            "grid_column": null,
            "grid_gap": null,
            "grid_row": null,
            "grid_template_areas": null,
            "grid_template_columns": null,
            "grid_template_rows": null,
            "height": null,
            "justify_content": null,
            "justify_items": null,
            "left": null,
            "margin": null,
            "max_height": null,
            "max_width": null,
            "min_height": null,
            "min_width": null,
            "object_fit": null,
            "object_position": null,
            "order": null,
            "overflow": null,
            "overflow_x": null,
            "overflow_y": null,
            "padding": null,
            "right": null,
            "top": null,
            "visibility": null,
            "width": null
          }
        },
        "d4d4dd882b634b9d97d826057e09677b": {
          "model_module": "@jupyter-widgets/controls",
          "model_name": "DescriptionStyleModel",
          "model_module_version": "1.5.0",
          "state": {
            "_model_module": "@jupyter-widgets/controls",
            "_model_module_version": "1.5.0",
            "_model_name": "DescriptionStyleModel",
            "_view_count": null,
            "_view_module": "@jupyter-widgets/base",
            "_view_module_version": "1.2.0",
            "_view_name": "StyleView",
            "description_width": ""
          }
        },
        "061de9886a8f41759959fba05acbc1b8": {
          "model_module": "@jupyter-widgets/base",
          "model_name": "LayoutModel",
          "model_module_version": "1.2.0",
          "state": {
            "_model_module": "@jupyter-widgets/base",
            "_model_module_version": "1.2.0",
            "_model_name": "LayoutModel",
            "_view_count": null,
            "_view_module": "@jupyter-widgets/base",
            "_view_module_version": "1.2.0",
            "_view_name": "LayoutView",
            "align_content": null,
            "align_items": null,
            "align_self": null,
            "border": null,
            "bottom": null,
            "display": null,
            "flex": null,
            "flex_flow": null,
            "grid_area": null,
            "grid_auto_columns": null,
            "grid_auto_flow": null,
            "grid_auto_rows": null,
            "grid_column": null,
            "grid_gap": null,
            "grid_row": null,
            "grid_template_areas": null,
            "grid_template_columns": null,
            "grid_template_rows": null,
            "height": null,
            "justify_content": null,
            "justify_items": null,
            "left": null,
            "margin": null,
            "max_height": null,
            "max_width": null,
            "min_height": null,
            "min_width": null,
            "object_fit": null,
            "object_position": null,
            "order": null,
            "overflow": null,
            "overflow_x": null,
            "overflow_y": null,
            "padding": null,
            "right": null,
            "top": null,
            "visibility": null,
            "width": null
          }
        },
        "6e68e68d7d4446e690b00b970f4789b2": {
          "model_module": "@jupyter-widgets/controls",
          "model_name": "ProgressStyleModel",
          "model_module_version": "1.5.0",
          "state": {
            "_model_module": "@jupyter-widgets/controls",
            "_model_module_version": "1.5.0",
            "_model_name": "ProgressStyleModel",
            "_view_count": null,
            "_view_module": "@jupyter-widgets/base",
            "_view_module_version": "1.2.0",
            "_view_name": "StyleView",
            "bar_color": null,
            "description_width": ""
          }
        },
        "daca56ab537e43f88afb8165a11740a5": {
          "model_module": "@jupyter-widgets/base",
          "model_name": "LayoutModel",
          "model_module_version": "1.2.0",
          "state": {
            "_model_module": "@jupyter-widgets/base",
            "_model_module_version": "1.2.0",
            "_model_name": "LayoutModel",
            "_view_count": null,
            "_view_module": "@jupyter-widgets/base",
            "_view_module_version": "1.2.0",
            "_view_name": "LayoutView",
            "align_content": null,
            "align_items": null,
            "align_self": null,
            "border": null,
            "bottom": null,
            "display": null,
            "flex": null,
            "flex_flow": null,
            "grid_area": null,
            "grid_auto_columns": null,
            "grid_auto_flow": null,
            "grid_auto_rows": null,
            "grid_column": null,
            "grid_gap": null,
            "grid_row": null,
            "grid_template_areas": null,
            "grid_template_columns": null,
            "grid_template_rows": null,
            "height": null,
            "justify_content": null,
            "justify_items": null,
            "left": null,
            "margin": null,
            "max_height": null,
            "max_width": null,
            "min_height": null,
            "min_width": null,
            "object_fit": null,
            "object_position": null,
            "order": null,
            "overflow": null,
            "overflow_x": null,
            "overflow_y": null,
            "padding": null,
            "right": null,
            "top": null,
            "visibility": null,
            "width": null
          }
        },
        "cfa95fcad7dc4e83913a2e7e87aa14fb": {
          "model_module": "@jupyter-widgets/controls",
          "model_name": "DescriptionStyleModel",
          "model_module_version": "1.5.0",
          "state": {
            "_model_module": "@jupyter-widgets/controls",
            "_model_module_version": "1.5.0",
            "_model_name": "DescriptionStyleModel",
            "_view_count": null,
            "_view_module": "@jupyter-widgets/base",
            "_view_module_version": "1.2.0",
            "_view_name": "StyleView",
            "description_width": ""
          }
        },
        "704540ac9a7a459c9a3bbacb008487d3": {
          "model_module": "@jupyter-widgets/controls",
          "model_name": "HBoxModel",
          "model_module_version": "1.5.0",
          "state": {
            "_dom_classes": [],
            "_model_module": "@jupyter-widgets/controls",
            "_model_module_version": "1.5.0",
            "_model_name": "HBoxModel",
            "_view_count": null,
            "_view_module": "@jupyter-widgets/controls",
            "_view_module_version": "1.5.0",
            "_view_name": "HBoxView",
            "box_style": "",
            "children": [
              "IPY_MODEL_5895e527143540a48758c3fb247818d7",
              "IPY_MODEL_92290824171e4c42b65daa962b523c98",
              "IPY_MODEL_e8c0c39c7d2c41d498d2bf6533aeaa93"
            ],
            "layout": "IPY_MODEL_1ed12f96a1a6451fa0fad904fa2a4ce9"
          }
        },
        "5895e527143540a48758c3fb247818d7": {
          "model_module": "@jupyter-widgets/controls",
          "model_name": "HTMLModel",
          "model_module_version": "1.5.0",
          "state": {
            "_dom_classes": [],
            "_model_module": "@jupyter-widgets/controls",
            "_model_module_version": "1.5.0",
            "_model_name": "HTMLModel",
            "_view_count": null,
            "_view_module": "@jupyter-widgets/controls",
            "_view_module_version": "1.5.0",
            "_view_name": "HTMLView",
            "description": "",
            "description_tooltip": null,
            "layout": "IPY_MODEL_abbda9c773c5470d85aca2364b68cc03",
            "placeholder": "​",
            "style": "IPY_MODEL_3a92d73627c0462fa2d70444710295a9",
            "value": "100%"
          }
        },
        "92290824171e4c42b65daa962b523c98": {
          "model_module": "@jupyter-widgets/controls",
          "model_name": "FloatProgressModel",
          "model_module_version": "1.5.0",
          "state": {
            "_dom_classes": [],
            "_model_module": "@jupyter-widgets/controls",
            "_model_module_version": "1.5.0",
            "_model_name": "FloatProgressModel",
            "_view_count": null,
            "_view_module": "@jupyter-widgets/controls",
            "_view_module_version": "1.5.0",
            "_view_name": "ProgressView",
            "bar_style": "success",
            "description": "",
            "description_tooltip": null,
            "layout": "IPY_MODEL_4bfda0913a5b4e86b1c0e48bb01ba909",
            "max": 4542,
            "min": 0,
            "orientation": "horizontal",
            "style": "IPY_MODEL_f3f354c8b340421daeb63589fb4a99e1",
            "value": 4542
          }
        },
        "e8c0c39c7d2c41d498d2bf6533aeaa93": {
          "model_module": "@jupyter-widgets/controls",
          "model_name": "HTMLModel",
          "model_module_version": "1.5.0",
          "state": {
            "_dom_classes": [],
            "_model_module": "@jupyter-widgets/controls",
            "_model_module_version": "1.5.0",
            "_model_name": "HTMLModel",
            "_view_count": null,
            "_view_module": "@jupyter-widgets/controls",
            "_view_module_version": "1.5.0",
            "_view_name": "HTMLView",
            "description": "",
            "description_tooltip": null,
            "layout": "IPY_MODEL_c9065843112a4c5497dd6d7cf3ccc6b0",
            "placeholder": "​",
            "style": "IPY_MODEL_9a732b3ca87d4e55b2e984f38574e388",
            "value": " 4542/4542 [00:00&lt;00:00, 302326.96it/s]"
          }
        },
        "1ed12f96a1a6451fa0fad904fa2a4ce9": {
          "model_module": "@jupyter-widgets/base",
          "model_name": "LayoutModel",
          "model_module_version": "1.2.0",
          "state": {
            "_model_module": "@jupyter-widgets/base",
            "_model_module_version": "1.2.0",
            "_model_name": "LayoutModel",
            "_view_count": null,
            "_view_module": "@jupyter-widgets/base",
            "_view_module_version": "1.2.0",
            "_view_name": "LayoutView",
            "align_content": null,
            "align_items": null,
            "align_self": null,
            "border": null,
            "bottom": null,
            "display": null,
            "flex": null,
            "flex_flow": null,
            "grid_area": null,
            "grid_auto_columns": null,
            "grid_auto_flow": null,
            "grid_auto_rows": null,
            "grid_column": null,
            "grid_gap": null,
            "grid_row": null,
            "grid_template_areas": null,
            "grid_template_columns": null,
            "grid_template_rows": null,
            "height": null,
            "justify_content": null,
            "justify_items": null,
            "left": null,
            "margin": null,
            "max_height": null,
            "max_width": null,
            "min_height": null,
            "min_width": null,
            "object_fit": null,
            "object_position": null,
            "order": null,
            "overflow": null,
            "overflow_x": null,
            "overflow_y": null,
            "padding": null,
            "right": null,
            "top": null,
            "visibility": null,
            "width": null
          }
        },
        "abbda9c773c5470d85aca2364b68cc03": {
          "model_module": "@jupyter-widgets/base",
          "model_name": "LayoutModel",
          "model_module_version": "1.2.0",
          "state": {
            "_model_module": "@jupyter-widgets/base",
            "_model_module_version": "1.2.0",
            "_model_name": "LayoutModel",
            "_view_count": null,
            "_view_module": "@jupyter-widgets/base",
            "_view_module_version": "1.2.0",
            "_view_name": "LayoutView",
            "align_content": null,
            "align_items": null,
            "align_self": null,
            "border": null,
            "bottom": null,
            "display": null,
            "flex": null,
            "flex_flow": null,
            "grid_area": null,
            "grid_auto_columns": null,
            "grid_auto_flow": null,
            "grid_auto_rows": null,
            "grid_column": null,
            "grid_gap": null,
            "grid_row": null,
            "grid_template_areas": null,
            "grid_template_columns": null,
            "grid_template_rows": null,
            "height": null,
            "justify_content": null,
            "justify_items": null,
            "left": null,
            "margin": null,
            "max_height": null,
            "max_width": null,
            "min_height": null,
            "min_width": null,
            "object_fit": null,
            "object_position": null,
            "order": null,
            "overflow": null,
            "overflow_x": null,
            "overflow_y": null,
            "padding": null,
            "right": null,
            "top": null,
            "visibility": null,
            "width": null
          }
        },
        "3a92d73627c0462fa2d70444710295a9": {
          "model_module": "@jupyter-widgets/controls",
          "model_name": "DescriptionStyleModel",
          "model_module_version": "1.5.0",
          "state": {
            "_model_module": "@jupyter-widgets/controls",
            "_model_module_version": "1.5.0",
            "_model_name": "DescriptionStyleModel",
            "_view_count": null,
            "_view_module": "@jupyter-widgets/base",
            "_view_module_version": "1.2.0",
            "_view_name": "StyleView",
            "description_width": ""
          }
        },
        "4bfda0913a5b4e86b1c0e48bb01ba909": {
          "model_module": "@jupyter-widgets/base",
          "model_name": "LayoutModel",
          "model_module_version": "1.2.0",
          "state": {
            "_model_module": "@jupyter-widgets/base",
            "_model_module_version": "1.2.0",
            "_model_name": "LayoutModel",
            "_view_count": null,
            "_view_module": "@jupyter-widgets/base",
            "_view_module_version": "1.2.0",
            "_view_name": "LayoutView",
            "align_content": null,
            "align_items": null,
            "align_self": null,
            "border": null,
            "bottom": null,
            "display": null,
            "flex": null,
            "flex_flow": null,
            "grid_area": null,
            "grid_auto_columns": null,
            "grid_auto_flow": null,
            "grid_auto_rows": null,
            "grid_column": null,
            "grid_gap": null,
            "grid_row": null,
            "grid_template_areas": null,
            "grid_template_columns": null,
            "grid_template_rows": null,
            "height": null,
            "justify_content": null,
            "justify_items": null,
            "left": null,
            "margin": null,
            "max_height": null,
            "max_width": null,
            "min_height": null,
            "min_width": null,
            "object_fit": null,
            "object_position": null,
            "order": null,
            "overflow": null,
            "overflow_x": null,
            "overflow_y": null,
            "padding": null,
            "right": null,
            "top": null,
            "visibility": null,
            "width": null
          }
        },
        "f3f354c8b340421daeb63589fb4a99e1": {
          "model_module": "@jupyter-widgets/controls",
          "model_name": "ProgressStyleModel",
          "model_module_version": "1.5.0",
          "state": {
            "_model_module": "@jupyter-widgets/controls",
            "_model_module_version": "1.5.0",
            "_model_name": "ProgressStyleModel",
            "_view_count": null,
            "_view_module": "@jupyter-widgets/base",
            "_view_module_version": "1.2.0",
            "_view_name": "StyleView",
            "bar_color": null,
            "description_width": ""
          }
        },
        "c9065843112a4c5497dd6d7cf3ccc6b0": {
          "model_module": "@jupyter-widgets/base",
          "model_name": "LayoutModel",
          "model_module_version": "1.2.0",
          "state": {
            "_model_module": "@jupyter-widgets/base",
            "_model_module_version": "1.2.0",
            "_model_name": "LayoutModel",
            "_view_count": null,
            "_view_module": "@jupyter-widgets/base",
            "_view_module_version": "1.2.0",
            "_view_name": "LayoutView",
            "align_content": null,
            "align_items": null,
            "align_self": null,
            "border": null,
            "bottom": null,
            "display": null,
            "flex": null,
            "flex_flow": null,
            "grid_area": null,
            "grid_auto_columns": null,
            "grid_auto_flow": null,
            "grid_auto_rows": null,
            "grid_column": null,
            "grid_gap": null,
            "grid_row": null,
            "grid_template_areas": null,
            "grid_template_columns": null,
            "grid_template_rows": null,
            "height": null,
            "justify_content": null,
            "justify_items": null,
            "left": null,
            "margin": null,
            "max_height": null,
            "max_width": null,
            "min_height": null,
            "min_width": null,
            "object_fit": null,
            "object_position": null,
            "order": null,
            "overflow": null,
            "overflow_x": null,
            "overflow_y": null,
            "padding": null,
            "right": null,
            "top": null,
            "visibility": null,
            "width": null
          }
        },
        "9a732b3ca87d4e55b2e984f38574e388": {
          "model_module": "@jupyter-widgets/controls",
          "model_name": "DescriptionStyleModel",
          "model_module_version": "1.5.0",
          "state": {
            "_model_module": "@jupyter-widgets/controls",
            "_model_module_version": "1.5.0",
            "_model_name": "DescriptionStyleModel",
            "_view_count": null,
            "_view_module": "@jupyter-widgets/base",
            "_view_module_version": "1.2.0",
            "_view_name": "StyleView",
            "description_width": ""
          }
        },
        "3c351ad2a6914961a2f7c7405a50158c": {
          "model_module": "@jupyter-widgets/controls",
          "model_name": "VBoxModel",
          "model_module_version": "1.5.0",
          "state": {
            "_dom_classes": [
              "widget-interact"
            ],
            "_model_module": "@jupyter-widgets/controls",
            "_model_module_version": "1.5.0",
            "_model_name": "VBoxModel",
            "_view_count": null,
            "_view_module": "@jupyter-widgets/controls",
            "_view_module_version": "1.5.0",
            "_view_name": "VBoxView",
            "box_style": "",
            "children": [
              "IPY_MODEL_1cd08e1612d34d00a28d1fe30366caf7",
              "IPY_MODEL_6eba6ff5f8ac43aa9c00532a7c399c59"
            ],
            "layout": "IPY_MODEL_bfa651ad748f4baa969c3062a7258423"
          }
        },
        "1cd08e1612d34d00a28d1fe30366caf7": {
          "model_module": "@jupyter-widgets/controls",
          "model_name": "IntSliderModel",
          "model_module_version": "1.5.0",
          "state": {
            "_dom_classes": [],
            "_model_module": "@jupyter-widgets/controls",
            "_model_module_version": "1.5.0",
            "_model_name": "IntSliderModel",
            "_view_count": null,
            "_view_module": "@jupyter-widgets/controls",
            "_view_module_version": "1.5.0",
            "_view_name": "IntSliderView",
            "continuous_update": false,
            "description": "idx",
            "description_tooltip": null,
            "disabled": false,
            "layout": "IPY_MODEL_68b3bf55a4ff41749b51797d89b55129",
            "max": 59999,
            "min": 0,
            "orientation": "horizontal",
            "readout": true,
            "readout_format": "d",
            "step": 1,
            "style": "IPY_MODEL_e124fbdae219447b96501f4297a660ee",
            "value": 13548
          }
        },
        "6eba6ff5f8ac43aa9c00532a7c399c59": {
          "model_module": "@jupyter-widgets/output",
          "model_name": "OutputModel",
          "model_module_version": "1.0.0",
          "state": {
            "_dom_classes": [],
            "_model_module": "@jupyter-widgets/output",
            "_model_module_version": "1.0.0",
            "_model_name": "OutputModel",
            "_view_count": null,
            "_view_module": "@jupyter-widgets/output",
            "_view_module_version": "1.0.0",
            "_view_name": "OutputView",
            "layout": "IPY_MODEL_7b151a0bcc7f48cf81cd5e61e0407026",
            "msg_id": "",
            "outputs": [
              {
                "output_type": "stream",
                "name": "stdout",
                "text": [
                  "GT label: 4\n"
                ]
              },
              {
                "output_type": "display_data",
                "data": {
                  "text/plain": "<Figure size 432x288 with 2 Axes>",
                  "image/png": "iVBORw0KGgoAAAANSUhEUgAAAXAAAAC4CAYAAAD61bdSAAAAOXRFWHRTb2Z0d2FyZQBNYXRwbG90bGliIHZlcnNpb24zLjcuMSwgaHR0cHM6Ly9tYXRwbG90bGliLm9yZy/bCgiHAAAACXBIWXMAAAsTAAALEwEAmpwYAAAXgElEQVR4nO3de4xVVZYG8G9ZiuBQaIPFI4pFx5CJBhUNQSOSOPY4OkjUTghR8RkztNgmajoZwH+6Y5wAmbFnTEQQoyknAbs7PkaCZJiOthHxSSsW+Jo2RgRSWkA1UqUkpdVr/qhLT9U936Luua+qffl+ibFqsevcfU5tt5e79trb3B0iIpKeE4a7AyIiUh5N4CIiidIELiKSKE3gIiKJ0gQuIpIoTeAiIomqaAI3s6vN7FMz+8zMllWrUyLDTWNbUmDlrgM3syYA/wvgSgB7AbwL4EZ3/+gYP6NF51JT7m6VXqOcsd3c3OwtLS2DYk1NTbRtb29vJha17evry8S++eYb2nbUqFElX5fF8/T3yJEjtC3rL+tXT08P/fniZxi9PgCMHz++5OuyZxbdw0knnZSJTZgwgbZlzyz6/TBjx46l8eL7+O6779Db25sZ2yeW/EpZswF85u6fA4CZ/QbAdQDCQS6SiNxju6WlBQ899NCg2Lhx42jbPXv2ZGKnnnoqbcsmg5deeom2Peuss0q+LotHbb/88stMbOfOnbQt6+/UqVMzsW3bttGfX7JkSUmvDwA33XRTJvb666/TtuyZRffA+rto0SLalj2z6PfDXHbZZTRefB/RfVXyEcoZAAaOxL2F2CBmttjMtpvZ9gpeS6Seco/t7u7uunVO5KiaJzHdfZ27z3L3WbV+LZF6Gji2m5ubh7s7chyq5COUfQAG/l3jzEJMJHW5x3ZTU1P4kUmxrVu3ZmLs4wCAfwwTtWUfNUR/9b7rrrsysc2bN9O27KOGa665hrZlH+Mw559/Po2z/kb3G30EUir2cU3Uh+h+N2zYUHLbPB8lrVixYtD3N9xwA21XyTvwdwFMN7Mfm9koADcA2FjB9URGCo1tSULZ78Dd/QczuwfAFgBNAJ5y9w+r1jORYaKxLamo5CMUuPtmAPzvXSIJ09iWFKgSU0QkUZrARUQSVdFHKCLSr6enJ7OiIE9F3uHDh2mcrbRgKx8AvqrivPPOo21vvvnmTOyxxx4r+bpr1qyhbaNVL6X2a9my7K4Fhw4dom2XL19e0msBwOrVqzOxaAUIWy0SrYRpbW3NxKJ7Y7/jqHiq+DlGFaZ6By4ikihN4CIiidIELiKSKE3gIiKJUhJTpApGjRqVKSOPkphRUo7ZvXt3JsYSfQBPQka76M2bNy8Ti5Kj0Y55DCulZ4nY6NmwxGSU6Fu/fn0mFiVRWbIxSoLOnz8/E2M7SAL82WzatIm2Pe200zIx9nsAgLVr1w76PnpeegcuIpIoTeAiIonSBC4ikihN4CIiidIELiKSqLIPNS7rxXSosdRYNQ41LsfEiRN9wYIFg2LRWY7skIa5c+fStqysO8JKtYsPBjiKlXtHhyywMx6XLl1K27LydFaGHvWLrdSIsBUg0SoUtvIn2r4gKoWvtG2p2wwA2ZU7O3bsQHd3d2Zs6x24iEiiNIGLiCRKE7iISKI0gYuIJKqiUnoz+wJAN4A+AD+4+6xqdOp4tG7dukzs22+/pW0/+OCDTKytra3aXTqu5R3bTU1NmZLv6HRydip9tBc3S5JFiT6WqIuSoyzBGpWss/3AowQguwZLWLLS9kg1SvzZ60XXZb83lsgF+P22t7fTtnlK6Yu3S2Dl/UB19kL5O3c/UIXriIw0GtsyoukjFBGRRFU6gTuA/zGzP5rZ4mp0SGSE0NiWEa/Sj1Auc/d9ZjYRwO/N7BN3f21gg8Lg138AkppcY5sV54jUWkXvwN19X+HfnQBeADCbtFnn7rOU4JSU5B3bp5xySr27KFL+O3Az+xsAJ7h7d+HrfwDwYNV61sCeeOKJTOyOO+7IxE44gf//ta+vLxOLNnx/4YUXcvZOyhnb7EAHdpABwFdERCtLWBl6dEgDO0whKo9nbaMxlAc7ZIGtpIlK0Fm5eXQiPFtJE21fwFasROX87G9T7GCNSNRf9nyjlTDFBzpE91XJRyiTALxgZkevs8Hd/7uC64mMFBrbkoSyJ3B3/xzABVXsi8iIoLEtqdAyQhGRRGkCFxFJlE6lr6F7772Xxu+8886Sfv7AgdKLAEePHl1yW6m+np6eTIl8VP7MElJRApGVcEcJQBaPrpunBJwl5aJSeNYHlpiM+sWSq1ECr9TXj0R9uPvuuzOxqOSdbSkQ9XfNmjWZ2Jw5c2jb4qTrjh07aDu9AxcRSZQmcBGRRGkCFxFJlCZwEZFEaQIXEUmUVqFUyYknZh/lBRdUVgvy4osv0vgjjzySiXV2dlb0WlKZMWPGZMrW82xwFa2eYIc/5LkuW9URicr5ly9fXnJbdhgCW90SHQjBfp4dVAHwe5sxYwZty1bNRKfEs8M1ome+bdu2TCxahVJ8SMOx2hbf26hRo2g7vQMXEUmUJnARkURpAhcRSZQmcBGRRCmJWSVnnnlmJnb77bdXdM3vv/+exlkJsJKYw6u3tzeTkIpKtdk+4VGyke3nXY19u1mJfnRddrJ9nsQiKyGP9sxmzyZqu2fPnkxs1apVtC3bOoDtXQ4AK1euzMSiJDN7ZtGzYc+c7VMOZJ/DkSNHaDu9AxcRSZQmcBGRRGkCFxFJlCZwEZFEaQIXEUmUufuxG5g9BWA+gE53n1GIjQfwWwDTAHwBYKG7/3nIFzM79osloKWlhcZfffXVTOycc86pSR8OHjyYibESZAB45513atKHkcrdrdS21Rzb559/vm/atGlQjJVOF9pmYlEJOFtpkeeAgwhblcFiAF9pEa2aYSe9s7L76LUqPZQiD7biBeArQ6L7Zb+LqET/rrvuysQ2b95M2xavZNmyZQsOHjyYGdulvANvA3B1UWwZgJfdfTqAlwvfi6SmDRrbkrAhJ3B3fw1AV1H4OgBPF75+GsD11e2WSO1pbEvqyv0MfJK7dxS+/grApKihmS02s+1mtr3M1xKpp7LGdldX8f8HRGqv4iSm93+IHn627e7r3H2Wu8+q9LVE6inP2B4/fnwdeybSr9xS+q/NbIq7d5jZFADHTR33woULabzShOWWLVsysauuuoq2nTBhQiZ29tln07bHWxKzCsoa2/v378+UjLMS9LxYAi86yZyJkmRLlizJxKLkG9uTnJWbAzxxy64blZAzu3fvpnF2jSgxmWdfdFbyzp5XXmvXrs3EohL94nt76623aLty34FvBHBb4evbAPCTB0TSo7EtyRhyAjezZwC8CeBvzWyvmd0JYCWAK83sTwD+vvC9SFI0tiV1Q36E4u43Bn/0kyr3RaSuNLYldarEFBFJlCZwEZFE6UCHnK644oqKr/Hoo49mYm+//XYmFq1CkZGnq6sLGzZsGBSLtjdgKyLYSg+An94erRZh143K7u++++5MLM9BEezkdoAf3sCeQ9SvPGXsxc/7WNgziw6KmDp1aiYW9be9vT0Ti37vbHVLpLi/PT09tJ3egYuIJEoTuIhIojSBi4gkShO4iEiilMQ8htNPPz0TYwmOvB588MFMrNKE5aWXXkrjJ5xQ+v+jL7744kxs+vTptO0tt9ySiR04cKDk12o0kydPzpSRR0kylhCLEois1DpKqEV7ijPs9PZobLe2tmZixXufH8X6y05/X7RoEf159hyi5N+4ceMysTzbF0Rl9yzBm2frgOhUepagjX5nxXuov/LKK7Sd3oGLiCRKE7iISKI0gYuIJEoTuIhIooY81LiqL5bYocaXXHJJJvbGG29UfF1WvcUOfs2zh3GtdHby7bAvv/zyTOyTTz6pcW+GludQ42qaOHGiL1iwYFAsOnSXVQVGbVmijh2KDPAkWVStyNouX76ctl29enUmxg5bjq7BEn3VqFZkydw8+4xHieM8fchTZcp+x2wuALK/40cffRR79+4t61BjEREZgTSBi4gkShO4iEiiNIGLiCRKE7iISKKGXIViZk8BmA+g091nFGK/AvBPAPYXmj3g7vz468HXSmoVCssaP/7447RtdFr9cNu3b18mtn//ftKSn3zNTtIG4uz5cMuzCqWaY/vkk0/2yZMnD4qx1RsA3+M7Kutm8qxuiVZlsJUW0coQtiUA2/cb4CfIs1L86KR5Vgof3S8r549W6LAVXdEqr6hsnmHPLDppPs/qo+KVLG1tbejo6ChrFUobgKtJ/N/dfWbhnyEHuMgI1AaNbUnYkBO4u78GoKsOfRGpK41tSV0ln4HfY2btZvaUmf0oamRmi81su5ltr+C1ROop99ju6+urZ/9EAJQ/ga8BcDaAmQA6ADwcNXT3de4+y91nlflaIvVU1thuamqqU/dE/l9Z+4G7+9dHvzazJwDwzYETx0ptly5dStvOmTMnE2Nl0ADQ3Nxc0uub8XwcSzyzg5IBnkj79NNPS3r941G5Y7ulpQVLliwZFGPJykhU8s7GVXRdNt6iZDM7lJjtgw3w/bxZYjLCEnV5fj46xJmV88+fP5+2LfWwZYAnWKP9y5k8pfhRErM4ETpmzBjarqx34GY2ZcC3PwWwq5zriIw0GtuSkiHfgZvZMwAuB3C6me0F8EsAl5vZTAAO4AsAP6tdF0VqQ2NbUjfkBO7uN5LwkzXoi0hdaWxL6lSJKSKSKE3gIiKJ0qn0OUUlwOxEb3YgBADMnj07E7vooosysVtvvbXkfr355ps0rhUn9XHkyJHMio9oNQIrtY5OsGfYypTItm3baJyN4+ggAta36DCE6BrFoq0D2MqQqC1bwRG1Zc88Wt2S52R7tnqIzQVAvlVJxffR1cXrzfQOXEQkUZrARUQSpQlcRCRRmsBFRBKlJGYNsf21ozgr1c2TxJTh1dXVhWeeeWZQbMWKFSX/fJTwZAmxKPnG2kb7Y69atSoTixKpbN/sKFHHknrRvttMdG8M2+s82jqAldhHvx+2JUGUnGV9iBY6sERqVEpfnCSONkvTO3ARkURpAhcRSZQmcBGRRGkCFxFJlCZwEZFEaRWKSBVMnjwZt99++6BYdCJ8ntPj2YqG6CACVt4elbwXHz4BxAc6sBUnUbk5i7OVKdGKF/Zsli1bRtvmORGerYSJ7peJVt0w0cqSPIdKFB8cc//999N2egcuIpIoTeAiIonSBC4ikihN4CIiiSrlTMypAP4TwCT0nxO4zt0fMbPxAH4LYBr6zw5c6O5/rl1XGxtLVkUJKJYkmTFjRtX71OiqObbHjBmTSaDlKQuPyq+Z6He9a1f2/OWoBJz1bdOmTbTtypUrM7GoPJ6NWZZYZInNqG20zQArj4+So+wa0T2wZxb9t8iuEfVh/fr1Jbct3lrjq6++ou1KeQf+A4BfuPu5AC4B8HMzOxfAMgAvu/t0AC8XvhdJica2JG3ICdzdO9z9vcLX3QA+BnAGgOsAPF1o9jSA62vUR5Ga0NiW1OX6DNzMpgG4EMDbACa5e0fhj75C/19D2c8sNrPtZra9ko6K1FKlY7u7u7s+HRUZoOQJ3MzGAngOwH3uPuhwN3d39H+GmOHu69x9lrvPqqinIjVSjbHd3Nxch56KDFbSBG5mJ6F/gK939+cL4a/NbErhz6cA6KxNF0VqR2NbUmb9bzCO0cDM0P85YJe73zcg/q8ADrr7SjNbBmC8u//zENc69ovJIO+//z6NX3DBBZnYvn37aNs8JcCNwN2t1LbVHNtTpkzx4lL6PCtLTjvtNBpnJfbRioitW7dmYmylBsBPb4/6y/oWlYuz0nC2qiPPSfMRtqojKo9nzzFaCcOeQ3QwBlvdEt0D60O0Uql4NU5bWxs6OjoyY7uUvVDmALgFwE4z21GIPQBgJYDfmdmdAHYDWFjCtURGEo1tSdqQE7i7vw4gelfzk+p2R6R+NLYldarEFBFJlCZwEZFEaT/wEayzs/TFDxMmTKDxa6+9NhPbuHFj2X0Srq+vL5NcbG1tpW1Z+XWU+GInpOdJvi1fvpy2zYP1N9rHutQ9r6PkHXutKBF/+PDhTCx6jixpGiWD9+zZk4lFSUx2b+3t7bQtS+ZG5fxz5swZ9P2zzz5L2+kduIhIojSBi4gkShO4iEiiNIGLiCRKE7iISKK0CmUEe/jhh2n8yiuvzMRGjx5N206bNq2aXZJAb29veHhCMbZaJCqlZytOolPa2eEA0WEIrKw7OtCBHbIQ9WHz5s2ZWPGKCiA+yICtmmF9BXgpfYSteolWgLB4tGKFXTdaNVPJQRFHjhyh7fQOXEQkUZrARUQSpQlcRCRRmsBFRBKlJKZIFbBSerY/N8BPeY9KwFmyLzqVftWqVZlYlFBjibqo9J+VoUf7brNrsMRmlEBk98uSqABP8M6bN4+2ZaIEIksyR/uXs6RrdG+HDh3KxHbt2kXbFiefo77qHbiISKI0gYuIJEoTuIhIojSBi4gkasgJ3MymmtkfzOwjM/vQzO4txH9lZvvMbEfhn9KzByIjgMa2pK6UU+mnAJji7u+ZWTOAPwK4Hv0Hvfa4+7+V/GI6lV5qLOep9FUb262trV5cXv7YY49FbTMxdnADwA8SiA5pYKXl0YoI1jd2QAIQrwJhWDn+/PnzM7FoVQVbRcJWsUT9irYOYKISfXaNqC1bsbJt2zbalv1+otVHK1asGPT9li1bcPDgwfyn0rt7B4COwtfdZvYxgDOG+jmRkU5jW1KX6zNwM5sG4EIAbxdC95hZu5k9ZWY/Cn5msZltN7PtlXVVpHYqHds9PT316qrIX5U8gZvZWADPAbjP3Q8DWAPgbAAz0f8uhm6d5+7r3H2Wu8+qvLsi1VeNsT127Nh6dVfkr0qawM3sJPQP8PXu/jwAuPvX7t7n7n8B8ASA2bXrpkhtaGxLyob8DNzMDMCTAD52918PiE8pfIYIAD8FwGtCRUaoao7trq6uTGn3okWLaFt2knlx0uootod0tBc3OxE+SpKV2i+AbwnATm4HeMKSJVKjbQZY0jZKCrIkZrQnO3sOUWKStY1K6dn9shJ/gG+hECVdly5dOuj7d999l7YrZS+UOQBuAbDTzHYUYg8AuNHMZgJwAF8A+FkJ1xIZSTS2JWmlrEJ5HQBbmsXX9ogkQmNbUqdKTBGRRGkCFxFJlCZwEZFEDVlKX9UXUym91FieUvpqam5u9pkzZw6KRSevsxUYbDVDJFppwVZ7RKtb5s6dW/J12WqNqBSerWRhqzKi8vyoD0yeFTbsuuyABYCvhIkO0WArZFh5fdR2yZIltG17e/ug76NSer0DFxFJlCZwEZFEaQIXEUmUJnARkUTVO4m5H8DRT/hPB3Cgbi9eP7qv4dPq7i3D8cIDxnYKz6lcjXpvKdwXHdt1ncAHvbDZ9kbcoVD3dXxr5OfUqPeW8n3pIxQRkURpAhcRSdRwTuDrhvG1a0n3dXxr5OfUqPeW7H0N22fgIiJSGX2EIiKSKE3gIiKJqvsEbmZXm9mnZvaZmfGzoRJROLG808x2DYiNN7Pfm9mfCv+mJ5qPZGY21cz+YGYfmdmHZnZvIZ78vdVSo4xtjet07q2uE7iZNQFYDeAfAZyL/qOrzq1nH6qsDcDVRbFlAF529+kAXi58n5ofAPzC3c8FcAmAnxd+T41wbzXRYGO7DRrXSaj3O/DZAD5z98/dvRfAbwBcV+c+VI27vwagqyh8HYCnC18/DeD6evapGty9w93fK3zdDeBjAGegAe6thhpmbGtcp3Nv9Z7AzwAw8DjrvYVYI5k04ETzrwBMGs7OVMrMpgG4EMDbaLB7q7JGH9sN9btvlHGtJGYNef8azWTXaZrZWADPAbjP3Q8P/LPU703Kl/rvvpHGdb0n8H0Apg74/sxCrJF8bWZTAKDw785h7k9ZzOwk9A/y9e7+fCHcEPdWI40+thvid99o47reE/i7AKab2Y/NbBSAGwBsrHMfam0jgNsKX98G4MVh7EtZzMwAPAngY3f/9YA/Sv7eaqjRx3byv/tGHNd1r8Q0s3kA/gNAE4Cn3P1f6tqBKjKzZwBcjv7tKL8G8EsA/wXgdwDOQv/2ogvdvTghNKKZ2WUAtgLYCeAvhfAD6P+8MOl7q6VGGdsa1+ncm0rpRUQSpSSmiEiiNIGLiCRKE7iISKI0gYuIJEoTuIhIojSBi4gkShO4iEii/g/aBRHGc4gwCQAAAABJRU5ErkJggg==\n"
                },
                "metadata": {
                  "needs_background": "light"
                }
              }
            ]
          }
        },
        "bfa651ad748f4baa969c3062a7258423": {
          "model_module": "@jupyter-widgets/base",
          "model_name": "LayoutModel",
          "model_module_version": "1.2.0",
          "state": {
            "_model_module": "@jupyter-widgets/base",
            "_model_module_version": "1.2.0",
            "_model_name": "LayoutModel",
            "_view_count": null,
            "_view_module": "@jupyter-widgets/base",
            "_view_module_version": "1.2.0",
            "_view_name": "LayoutView",
            "align_content": null,
            "align_items": null,
            "align_self": null,
            "border": null,
            "bottom": null,
            "display": null,
            "flex": null,
            "flex_flow": null,
            "grid_area": null,
            "grid_auto_columns": null,
            "grid_auto_flow": null,
            "grid_auto_rows": null,
            "grid_column": null,
            "grid_gap": null,
            "grid_row": null,
            "grid_template_areas": null,
            "grid_template_columns": null,
            "grid_template_rows": null,
            "height": null,
            "justify_content": null,
            "justify_items": null,
            "left": null,
            "margin": null,
            "max_height": null,
            "max_width": null,
            "min_height": null,
            "min_width": null,
            "object_fit": null,
            "object_position": null,
            "order": null,
            "overflow": null,
            "overflow_x": null,
            "overflow_y": null,
            "padding": null,
            "right": null,
            "top": null,
            "visibility": null,
            "width": null
          }
        },
        "68b3bf55a4ff41749b51797d89b55129": {
          "model_module": "@jupyter-widgets/base",
          "model_name": "LayoutModel",
          "model_module_version": "1.2.0",
          "state": {
            "_model_module": "@jupyter-widgets/base",
            "_model_module_version": "1.2.0",
            "_model_name": "LayoutModel",
            "_view_count": null,
            "_view_module": "@jupyter-widgets/base",
            "_view_module_version": "1.2.0",
            "_view_name": "LayoutView",
            "align_content": null,
            "align_items": null,
            "align_self": null,
            "border": null,
            "bottom": null,
            "display": null,
            "flex": null,
            "flex_flow": null,
            "grid_area": null,
            "grid_auto_columns": null,
            "grid_auto_flow": null,
            "grid_auto_rows": null,
            "grid_column": null,
            "grid_gap": null,
            "grid_row": null,
            "grid_template_areas": null,
            "grid_template_columns": null,
            "grid_template_rows": null,
            "height": null,
            "justify_content": null,
            "justify_items": null,
            "left": null,
            "margin": null,
            "max_height": null,
            "max_width": null,
            "min_height": null,
            "min_width": null,
            "object_fit": null,
            "object_position": null,
            "order": null,
            "overflow": null,
            "overflow_x": null,
            "overflow_y": null,
            "padding": null,
            "right": null,
            "top": null,
            "visibility": null,
            "width": null
          }
        },
        "e124fbdae219447b96501f4297a660ee": {
          "model_module": "@jupyter-widgets/controls",
          "model_name": "SliderStyleModel",
          "model_module_version": "1.5.0",
          "state": {
            "_model_module": "@jupyter-widgets/controls",
            "_model_module_version": "1.5.0",
            "_model_name": "SliderStyleModel",
            "_view_count": null,
            "_view_module": "@jupyter-widgets/base",
            "_view_module_version": "1.2.0",
            "_view_name": "StyleView",
            "description_width": "",
            "handle_color": null
          }
        },
        "7b151a0bcc7f48cf81cd5e61e0407026": {
          "model_module": "@jupyter-widgets/base",
          "model_name": "LayoutModel",
          "model_module_version": "1.2.0",
          "state": {
            "_model_module": "@jupyter-widgets/base",
            "_model_module_version": "1.2.0",
            "_model_name": "LayoutModel",
            "_view_count": null,
            "_view_module": "@jupyter-widgets/base",
            "_view_module_version": "1.2.0",
            "_view_name": "LayoutView",
            "align_content": null,
            "align_items": null,
            "align_self": null,
            "border": null,
            "bottom": null,
            "display": null,
            "flex": null,
            "flex_flow": null,
            "grid_area": null,
            "grid_auto_columns": null,
            "grid_auto_flow": null,
            "grid_auto_rows": null,
            "grid_column": null,
            "grid_gap": null,
            "grid_row": null,
            "grid_template_areas": null,
            "grid_template_columns": null,
            "grid_template_rows": null,
            "height": null,
            "justify_content": null,
            "justify_items": null,
            "left": null,
            "margin": null,
            "max_height": null,
            "max_width": null,
            "min_height": null,
            "min_width": null,
            "object_fit": null,
            "object_position": null,
            "order": null,
            "overflow": null,
            "overflow_x": null,
            "overflow_y": null,
            "padding": null,
            "right": null,
            "top": null,
            "visibility": null,
            "width": null
          }
        },
        "c12ba86e274040f9a8312f6ea6806a8c": {
          "model_module": "@jupyter-widgets/controls",
          "model_name": "VBoxModel",
          "model_module_version": "1.5.0",
          "state": {
            "_dom_classes": [
              "widget-interact"
            ],
            "_model_module": "@jupyter-widgets/controls",
            "_model_module_version": "1.5.0",
            "_model_name": "VBoxModel",
            "_view_count": null,
            "_view_module": "@jupyter-widgets/controls",
            "_view_module_version": "1.5.0",
            "_view_name": "VBoxView",
            "box_style": "",
            "children": [
              "IPY_MODEL_f1ae02e16f7a4f8286663a9f894f63b3",
              "IPY_MODEL_4cecab7f125646ad905be3226d50df29"
            ],
            "layout": "IPY_MODEL_0b185ba5ce80444f97d23a04ace005ce"
          }
        },
        "f1ae02e16f7a4f8286663a9f894f63b3": {
          "model_module": "@jupyter-widgets/controls",
          "model_name": "IntSliderModel",
          "model_module_version": "1.5.0",
          "state": {
            "_dom_classes": [],
            "_model_module": "@jupyter-widgets/controls",
            "_model_module_version": "1.5.0",
            "_model_name": "IntSliderModel",
            "_view_count": null,
            "_view_module": "@jupyter-widgets/controls",
            "_view_module_version": "1.5.0",
            "_view_name": "IntSliderView",
            "continuous_update": false,
            "description": "idx",
            "description_tooltip": null,
            "disabled": false,
            "layout": "IPY_MODEL_a714d60279f341c19d7cab9fe3178f0c",
            "max": 59999,
            "min": 0,
            "orientation": "horizontal",
            "readout": true,
            "readout_format": "d",
            "step": 1,
            "style": "IPY_MODEL_7e4b18e7511c400e8bd3126d583d794d",
            "value": 9387
          }
        },
        "4cecab7f125646ad905be3226d50df29": {
          "model_module": "@jupyter-widgets/output",
          "model_name": "OutputModel",
          "model_module_version": "1.0.0",
          "state": {
            "_dom_classes": [],
            "_model_module": "@jupyter-widgets/output",
            "_model_module_version": "1.0.0",
            "_model_name": "OutputModel",
            "_view_count": null,
            "_view_module": "@jupyter-widgets/output",
            "_view_module_version": "1.0.0",
            "_view_name": "OutputView",
            "layout": "IPY_MODEL_214558aba21245489dc115fd1e716f4f",
            "msg_id": "",
            "outputs": [
              {
                "output_type": "stream",
                "name": "stdout",
                "text": [
                  "GT label: 5\n"
                ]
              },
              {
                "output_type": "display_data",
                "data": {
                  "text/plain": "<Figure size 432x288 with 2 Axes>",
                  "image/png": "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\n"
                },
                "metadata": {
                  "needs_background": "light"
                }
              }
            ]
          }
        },
        "0b185ba5ce80444f97d23a04ace005ce": {
          "model_module": "@jupyter-widgets/base",
          "model_name": "LayoutModel",
          "model_module_version": "1.2.0",
          "state": {
            "_model_module": "@jupyter-widgets/base",
            "_model_module_version": "1.2.0",
            "_model_name": "LayoutModel",
            "_view_count": null,
            "_view_module": "@jupyter-widgets/base",
            "_view_module_version": "1.2.0",
            "_view_name": "LayoutView",
            "align_content": null,
            "align_items": null,
            "align_self": null,
            "border": null,
            "bottom": null,
            "display": null,
            "flex": null,
            "flex_flow": null,
            "grid_area": null,
            "grid_auto_columns": null,
            "grid_auto_flow": null,
            "grid_auto_rows": null,
            "grid_column": null,
            "grid_gap": null,
            "grid_row": null,
            "grid_template_areas": null,
            "grid_template_columns": null,
            "grid_template_rows": null,
            "height": null,
            "justify_content": null,
            "justify_items": null,
            "left": null,
            "margin": null,
            "max_height": null,
            "max_width": null,
            "min_height": null,
            "min_width": null,
            "object_fit": null,
            "object_position": null,
            "order": null,
            "overflow": null,
            "overflow_x": null,
            "overflow_y": null,
            "padding": null,
            "right": null,
            "top": null,
            "visibility": null,
            "width": null
          }
        },
        "a714d60279f341c19d7cab9fe3178f0c": {
          "model_module": "@jupyter-widgets/base",
          "model_name": "LayoutModel",
          "model_module_version": "1.2.0",
          "state": {
            "_model_module": "@jupyter-widgets/base",
            "_model_module_version": "1.2.0",
            "_model_name": "LayoutModel",
            "_view_count": null,
            "_view_module": "@jupyter-widgets/base",
            "_view_module_version": "1.2.0",
            "_view_name": "LayoutView",
            "align_content": null,
            "align_items": null,
            "align_self": null,
            "border": null,
            "bottom": null,
            "display": null,
            "flex": null,
            "flex_flow": null,
            "grid_area": null,
            "grid_auto_columns": null,
            "grid_auto_flow": null,
            "grid_auto_rows": null,
            "grid_column": null,
            "grid_gap": null,
            "grid_row": null,
            "grid_template_areas": null,
            "grid_template_columns": null,
            "grid_template_rows": null,
            "height": null,
            "justify_content": null,
            "justify_items": null,
            "left": null,
            "margin": null,
            "max_height": null,
            "max_width": null,
            "min_height": null,
            "min_width": null,
            "object_fit": null,
            "object_position": null,
            "order": null,
            "overflow": null,
            "overflow_x": null,
            "overflow_y": null,
            "padding": null,
            "right": null,
            "top": null,
            "visibility": null,
            "width": null
          }
        },
        "7e4b18e7511c400e8bd3126d583d794d": {
          "model_module": "@jupyter-widgets/controls",
          "model_name": "SliderStyleModel",
          "model_module_version": "1.5.0",
          "state": {
            "_model_module": "@jupyter-widgets/controls",
            "_model_module_version": "1.5.0",
            "_model_name": "SliderStyleModel",
            "_view_count": null,
            "_view_module": "@jupyter-widgets/base",
            "_view_module_version": "1.2.0",
            "_view_name": "StyleView",
            "description_width": "",
            "handle_color": null
          }
        },
        "214558aba21245489dc115fd1e716f4f": {
          "model_module": "@jupyter-widgets/base",
          "model_name": "LayoutModel",
          "model_module_version": "1.2.0",
          "state": {
            "_model_module": "@jupyter-widgets/base",
            "_model_module_version": "1.2.0",
            "_model_name": "LayoutModel",
            "_view_count": null,
            "_view_module": "@jupyter-widgets/base",
            "_view_module_version": "1.2.0",
            "_view_name": "LayoutView",
            "align_content": null,
            "align_items": null,
            "align_self": null,
            "border": null,
            "bottom": null,
            "display": null,
            "flex": null,
            "flex_flow": null,
            "grid_area": null,
            "grid_auto_columns": null,
            "grid_auto_flow": null,
            "grid_auto_rows": null,
            "grid_column": null,
            "grid_gap": null,
            "grid_row": null,
            "grid_template_areas": null,
            "grid_template_columns": null,
            "grid_template_rows": null,
            "height": null,
            "justify_content": null,
            "justify_items": null,
            "left": null,
            "margin": null,
            "max_height": null,
            "max_width": null,
            "min_height": null,
            "min_width": null,
            "object_fit": null,
            "object_position": null,
            "order": null,
            "overflow": null,
            "overflow_x": null,
            "overflow_y": null,
            "padding": null,
            "right": null,
            "top": null,
            "visibility": null,
            "width": null
          }
        }
      }
    }
  },
  "cells": [
    {
      "cell_type": "markdown",
      "metadata": {
        "id": "view-in-github",
        "colab_type": "text"
      },
      "source": [
        "<a href=\"https://colab.research.google.com/github/so-yeon-hwang/DataScienceJobSalary/blob/main/%5BHW02%5D_Conditional_VAE_(PyTorch)%EC%9D%98_%EC%82%AC%EB%B3%B8.ipynb\" target=\"_parent\"><img src=\"https://colab.research.google.com/assets/colab-badge.svg\" alt=\"Open In Colab\"/></a>"
      ]
    },
    {
      "cell_type": "markdown",
      "metadata": {
        "id": "pgbcixH0IwPj"
      },
      "source": [
        "---\n",
        "\n",
        "##[HW02] Conditional Autoencoder\n",
        "\n",
        "MNIST 데이터셋을 이용해 conditional VAE 기반 generative model을 구축한다.\n",
        "\n",
        "<br/>\n",
        "\n",
        "단, 과제는 다음 조건을 만족해야 한다.\n",
        "1. 조건 (condition)은 데이터의 label로 부여한다.\n",
        "2. 데이터의 representation $z$에 대한 확률분포 $p(z)$가 다차원 normal distribution을 따른다고 가정한다.\n",
        "3. 딥네트워크는 fully connected network, 즉 Dense(Linear) 연산을 통해 설계한다.\n",
        "  * 컨볼루션으로 설계할 경우, 반드시 Dense(Linear) 연산과의 성능차이를 비교하도록 한다.\n",
        "\n",
        "<br/>\n",
        "\n",
        "다음을 확인하는 리포트를 Colab 노트북을 이용해 작성한다.\n",
        "1. 조건 (condition)을 Conditional VAE의 인코더와 디코더에 어떻게 텐서 형태를 취해 입력으로 줘야하는지 명시하고, 이에 대해 논의한다.\n",
        "2. 학습을 마친 Conditional VAE에 대해, representation $p(z)$가 \\***조건별로**\\* MNIST 훈련 데이터셋, 테스트 데이터셋 모두 다차원 normal distribution을 따르는지 확인한다.\n",
        "3. MNIST 훈련 데이터셋, 테스트 데이터셋을 \\***조건별로**\\* representation p(z)의 분포를 가시화하고 결과에 대해 분석한다.\n",
        "4. $z$의 차원을 바꿔가며 실험해 보고 결과에 대해 분석한다.\n",
        "5. 학습을 마친 Conditional VAE의 decoder만으로 generative model을 구성한다.\n",
        "<br/>\n",
        "이 때, $p(z)$에서 샘플링한 $z$ 값을 decoder의 입력으로 주었을 때 손글씨 숫자 이미지가 만들어지는지 확인한다.\n",
        "6. 이것 이외에도 의미있는 실험들을 스스로 생각하고 수행해본다.\n",
        "\n",
        "---"
      ]
    },
    {
      "cell_type": "markdown",
      "metadata": {
        "id": "BK7ouuAaM5Y9"
      },
      "source": [
        "# Variational AutoEncoder\n",
        "\n",
        "Variational AutoEncoder(이하 VAE)는 생성모델 중 하나이다. VAE는 GAN과 더불어 딥러닝 기반 생성모델로 널리 알려져 있으며, 2014년에 발표된 다음 두 논문에 기반한 방법이다.\n",
        "\n",
        "* [Kingma and Welling, Auto-Encoding Variational Bayes, International Conference on Learning Representations (ICLR) 2014.](https://arxiv.org/abs/1312.6114)\n",
        "* [Rezende, Mohamed and Wierstra, Stochastic Backpropagation and Approximate Inference\n",
        "in Deep Generative Models. ICML 2014.](https://arxiv.org/abs/1401.4082)\n",
        "\n",
        "\n",
        "여기서는 Kingma와 Welling이 ICLR 2014에 발표한 논문을 텐서플로우 2.0 기반으로 구현하여 VAE를 이해하도록 한다.\n",
        "\n",
        "본 문서 이외에도 VAE에 대해 상세히 설명되어 있는 좋은 자료들이 많으니, 각자 시간을 내어 반드시 살펴보도록 하자.\n",
        "\n",
        "* [PR-010: Auto-Encoding Variational Bayes, ICLR 2014, presented by Junbum Cha](https://youtu.be/KYA-GEhObIs)\n",
        "* [오토인코더의 모든 것 - 1/3, by 이활석 (Naver D2 세미나)](https://youtu.be/o_peo6U7IRM)\n",
        "* [Variational Autoencoder: Intuition and Implementation](https://wiseodd.github.io/techblog/2016/12/10/variational-autoencoder/)\n",
        "* [Conditional Variational Autoencoders, by Isaac Dykeman](http://ijdykeman.github.io/ml/2016/12/21/cvae.html)\n",
        "* [D.P. Kingma, Variational Inference and Deep Learning: A New Synthesis, Ph.D. Thesis](https://www.dropbox.com/s/v6ua3d9yt44vgb3/cover_and_thesis.pdf?dl=1)\n",
        "* [Tutorial on Variational Autoencoders](https://arxiv.org/abs/1606.05908)\n",
        "\n",
        "\n",
        "\n"
      ]
    },
    {
      "cell_type": "markdown",
      "metadata": {
        "id": "UYfgn4tdY2n1"
      },
      "source": [
        "## 생성 모델 문제\n",
        "\n",
        "생성 모델 문제의 목표는 주어진 데이터셋과 유사하면서도 새로운 데이터를 생성해 낼 수 있는 모델을 수립하는 것이다. 확률적인 관점에서 본다면, 확률함수 $p^{*}(x)$를 구하는 문제이며, 해당 확률함수 $p^{*}$로 뽑힌 $x$는 우리가 가지고 있는 데이터셋과 유사해야 한다.\n",
        "\n",
        "$$ x \\sim p^{*}(x)$$\n",
        "\n",
        "그런데, 현실적으로 확률함수 $p^{*}(x)$를 알아내는 것은 불가능하다.\n",
        "\n",
        "예를 들어, 우리가 다루고자 하는 생성 모델 문제가 사람의 얼굴 영상을 만드는 문제라고 하자. 그럼 $p^{*}(x)$는 과거/현재/미래에 존재할 수 있는 모든 사람들의 얼굴을 만들어 낼 수 있는 확률함수이고, 해당 확률함수에서 뽑힌(drawn) $x$는 얼굴 영상이다.\n",
        "\n",
        "### 딥러닝 기반 생성 모델\n",
        "최근 딥러닝의 발전으로 생성 모델 문제를 데이터셋을 기반으로 한 딥뉴럴넷 학습으로 해결하려는 시도가 활발히 진행되고 있다. VAE와 GAN이 대표적인 예이다.\n",
        "\n",
        "예를 들어, [CelebA 데이터셋](http://mmlab.ie.cuhk.edu.hk/projects/CelebA.html)과 같이 유명인들의 얼굴을 찍어 놓은 영상들이  있다면, 이 데이터를 기반으로 한 생성 모델 문제는 새로운 얼굴 영상을 만들어 낼 수 있는 생성 모델 $p_{\\theta}(x)$을 수립하는 것이다. 당연히, 우리가 수립하고자 하는 생성 모델은 미지의 진실 확률함수 $p^{*}(x)$를 최대한 잘 근사해야 할 것이다.\n",
        "\n",
        "$$ p^{*}(x) \\approx p_{\\theta}(x)$$\n",
        "\n",
        "이제 생성 모델 $p_{\\theta}(x)$를 수립하는 문제를 다음과 같이 데이터 기반으로 한 학습과정으로 설명해 보자.\n",
        "\n",
        "* 우리가 생성하려는 데이터의 총 집합을 $X$라 하자. 예를 들어 얼굴 생성 문제에서는 과거/현재/미래에 존재할 수 있는 모든 사람들의 얼굴을 찍은 영상 집합 $X$가 된다.\n",
        "* 이제, 사람의 얼굴을 찍은 영상 $x$가 있다면, 이 영상은  총 집합 $X$로부터 어떤 확률적인 과정에 의해 뽑힌 것으로 생각하자. 즉,\n",
        "$$ x \\sim p_{\\theta}(x)$$\n",
        "* 학습에 앞서, 생성 모델에 쓰일 확률함수 $p_{\\theta}$의 구조를 정의한다. 즉, 딥뉴럴넷의 구조를 정의한다.\n",
        "* 학습을 통해, 생성 모델에 쓰일 확률함수 $p_{\\theta}$의 최적 파라메터 $\\theta$를 학습한다. 즉, 딥뉴럴넷의 파라메터를 업데이트한다.\n",
        "\n",
        "그런데,  $p_{\\theta}(x)$도 역시 직접적으로 알아내는 것은 다루기 힘든(intractable) 문제이다. 하지만 다음과 같은 가정 하에 생성모델을 설계하고 훈련한다면, $p_{\\theta}(x)$를 간접적으로 알아내는 것이 가능하다.\n",
        "\n",
        "\n",
        "### 가정\n",
        "생성 모델에서는 다음과 같이 데이터에 대해 의미있는 가정을 한다.\n",
        "\n",
        "* i.i.d 가정(independent and identical distribution assumption): 총 집합 $X$의 각 원소들을 $p_{\\theta}(x)$에 의해 확률적으로 뽑는다면 각 시행은 독립적이며 동일한 분포를 가지게 된다.\n",
        "* 충분한 양의 학습 데이터셋  $\\{x^{(i)}\\}_{i=1}^{N}$가 확보되어 있으면, 이 학습 데이터셋은 데이터의 모집합 $X$를 어느정도 대체할 수 있다.\n",
        "\n",
        "즉, 각 데이터에 대해 동일 분포로부터 발생한 독립적인 사건의 곱으로 생각할 수 있다.\n",
        "\n",
        "$$ p^{*}(X) \\approx p_{\\theta}(X) \\approx p_{\\theta}(\\{x^{(i)}\\}_{i=1}^{N}) = p_{\\theta}(x^{(1)}, \\cdots, x^{(N)}) = p_{\\theta}(x^{(1)}) \\cdots p_{\\theta}(x^{(N)}) = \\prod_{i=1}^{N}p_{\\theta}(x^{(i)}) $$\n",
        "\n",
        "로그 확률함수를 생각한다면, 다음과 같이 각 데이터의 로그 확률함수에 대한 합으로 생각할 수 있다.\n",
        "\n",
        "$$\\log p_{\\theta}(x^{(1)}, \\cdots, x^{(N)}) = \\log p_{\\theta}(x^{(1)}) + \\cdots + \\log p_{\\theta}(x^{(N)}) = \\sum_{i=1}^{N} \\log p_{\\theta}(x^{(i)})$$\n",
        "\n",
        "얼굴 영상을 만드는 생성 문제에서 i.i.d 가정은 다음과 같이 해석될 수 있다. (independent) 생성 모델로 어떤 영상을 새롭게 만들었다면, 이는 이전에 생성된 혹은 그 이후에 생성될 영상에 영향을 주지 않는다. (identical) 뿐만 아니라 각 영상들은 얼굴에 관한 영상들이다. 즉, 얼굴 생성 모델이 자동차나 고양이 영상을 만들어 내지는 않는다."
      ]
    },
    {
      "cell_type": "markdown",
      "metadata": {
        "id": "rBQcNiTlFtv_"
      },
      "source": [
        "## VAE 구조\n",
        "\n",
        "구조적으로 봤을 VAE는 오토인코더와 거의 유사하다.\n",
        "\n",
        "![일반적인 오토인코더 구조](http://ijdykeman.github.io/assets/cvae_figures/ae_diagram.svg)\n",
        "\n",
        "\n",
        "궁극적으로 오토인코더와 VAE가 다른 점은 latent space에 제한조건이 걸려있는지 여부이다.\n",
        "\n",
        "오토인코더는 동일한 훈련 데이터셋에 대해서도 훈련 초기조건에 따라 완전히 다른 latent space를 가지게 학습된다. 바로 이 점 때문에 오토인코더를 생성모델로서 활용할 수 없다. 반면, VAE는 인코더가 만들어내는 latent space를 우리가 원하는 확률모델과 유사한 모양을 가지도록 강제함으로써, 훈련된 VAE의 디코더 부분을 생성모델로 쓸 수 있다.\n",
        "\n",
        "이러한 아이디어가 어떻게 VAE의 loss 수식에 반영되고, Tensorflow에서 VAE의 loss 수식이 어떻게 코딩에 반영되는지 살펴보도록 하자.\n",
        "\n",
        "\n"
      ]
    },
    {
      "cell_type": "markdown",
      "metadata": {
        "id": "OQsYDNu5ukSL"
      },
      "source": [
        "## VAE의 문제 정의\n",
        "\n",
        "VAE는 생성 모델 문제를 다음과 같이 정의한다.\n",
        "\n",
        "\n",
        "### Latent parameter $z$의 도입\n",
        "\n",
        "우리가 찾고자 하는 $p_{\\theta}(x)$를 직접 알아내는 것은 불가능하다.  하지만, 아마도 어떤 내제되어 있는 컨트롤 파라메터 $z$가 있어 $p_{\\theta}(x)$를 간접적으로 접근할 수 있을 것이다. 즉,\n",
        "\n",
        "$$ p_{\\theta}(x) = \\int p_{\\theta}(x,z) dz $$\n",
        "\n",
        "즉, $p_{\\theta}(x)$를 곧바로 공략하지 않고, 1) joint probability $p_{\\theta}(x, z)$를 알아낸 다음 2) 컨트롤 파라메터 $z$에 대해 적분하여 marginal probability $p_{\\theta}(x)$를 알아내도록 하는 접근법을 생각하자.\n",
        "\n",
        "이제 joint probability $p_{\\theta}(x, z)$는 조건부 확률에 의해 다음과 같이 적을 수 있다.\n",
        "\n",
        "$$ p_{\\theta}(x, z) = p_{\\theta}(x | z) p_{\\theta}(z) $$\n",
        "\n",
        "\n",
        "$p_{\\theta}(x|z)$는 likelihood, $p_{\\theta}(z)$는 prior라고 부르는데 그 의미는 다음과 같다.\n",
        "\n",
        "* $p_{\\theta}(z)$\n",
        "  + 문제를 풀려고 하는 사람의 경험이 반영된 확률분포.\n",
        "  + 예를 들어, 우리가 풀고자 하는 문제에 컨트롤 가능한 $z$가 있을텐데, 이 $z$가 아마도 특정 확률분포 $p_{\\theta}(z)$를 따를 것이라는 믿음.\n",
        "  + 알지도 못하는 **컨트롤 파라메터에 대한 확률적 믿음**이라는 의미에서 사건 $x$의 발생과 무관한 사전확률이라고 한다.\n",
        "* $p_{\\theta}(x|z)$\n",
        "  + 주어진 컨트롤 파라메터 $z$가 있을 때, 데이터 $x$를 만들어 내는 확률분포.\n",
        "  + 주어진 latent parameter $z$가 기반하여 데이터 $x$를 추정한다는 의미에서 가능도(likelihood)라고 한다.\n",
        "  + 컨트롤 파라메터에 의해 데이터가 만들어지므로, **우리가 만들고자 하는 생성 모델**이 바로 이것이다.\n",
        "\n",
        "\n",
        "\n",
        "### 컨트롤 가능한 Prior\n",
        "Prior $p_{\\theta}(z)$는 옳든 그르든 우리가 정하면 되는 확률이다. Prior $p_{\\theta}(z)$를 컨트롤 가능한 확률분포로 설정하면 편리하기 때문에, VAE에서는 대부분 $p_{\\theta}(z)$를 정규분포로 설정한다.\n",
        "\n",
        "$$ p_{\\theta}(z) \\sim N(\\mu, \\sigma)$$\n",
        "\n",
        "이제, prior $p_{\\theta}(z)$를 정하는 문제는 정규분포의 $\\mu$와 $\\sigma$를 구하는 문제로 바뀌게 된다.\n",
        "\n",
        "\n",
        "### 생성 모델에 해당하는 likelihood\n",
        "컨트롤 파라메터 $z$가 주어졌을 때, 이로부터 데이터 $x$를 만드는 확률분포 $p_{\\theta}(x | z)$를 알 수 있다면, 생성 문제는 다 해결한 것이다.\n",
        "\n",
        "그런데, 조금만 생각해 보면 $p_{\\theta}(x | z)$를 알아내는게 쉽지 않다는 것을 알 수 있다.\n",
        "\n",
        "얼굴 생성 문제로 다시 돌아가 보자. Prior $p_{\\theta}(z)$는 앞서 우리가 임의로 정규분포로 가정했다. 즉, 정규분포를 따르는 확률변수 $z$를 하나 뽑은 것이다. 그 다음 뽑힌 $z$를 likelihood $p_{\\theta}(x | z)$에 조건으로 주게 되면 얼굴 사진 $x$가 나와야 한다. 그럼, $p_{\\theta}(x|z)$는 도대체 어떤 확률함수이길래 이런 마법같은 것을 할 수 있는 것일까?\n",
        "\n",
        "VAE에서는 likelihood를 뉴럴넷으로 모델링 하고, 주어진 학습 데이터셋을 통해 이 뉴럴넷을 학습함으로써 likelihood $p_{\\theta}(x|z)$를 구한다.\n",
        "\n",
        "$$ p_{\\theta}(x|z) = \\textrm{NeuralNet}(z)$$\n",
        "\n",
        "이 때, 뉴럴넷 $\\textrm{NeuralNet}(z)$의 출력은 영상이다. 만일 얼굴 데이터셋으로 뉴럴넷을 학습시켰다면, 뉴럴넷 $\\textrm{NeuralNet}(z)$의 출력 $x$는 얼굴 영상이어야 한다."
      ]
    },
    {
      "cell_type": "markdown",
      "metadata": {
        "id": "Dg4Kxc4m5pq4"
      },
      "source": [
        "## VAE의 문제 접근 방법\n",
        "\n",
        "생성 모델에 해당하는 $p_{\\theta}(x|z)$를 훈련시키는 모델을 구축하기 위해, 원래 문제 정의로 돌아가 보자.\n",
        "\n",
        "원래 문제는 $p_{\\theta}(x)$를 구하는 것이었다. $p_{\\theta}(x)$를 직접 구하기 힘들기 때문에, 컨트롤 가능한 latent parameter $z$를 도입하여 $p_{\\theta}(x,z)$ 문제를 푸는 걸로 접근법을 바꾸었다. 하지만 본질은 $p_{\\theta}(x)$를 구하는 것이다.\n",
        "\n",
        "어떤 방식으로 $p_{\\theta}(x)$를 구하던지 간에 $p_{\\theta}(x)$로 뽑은 $x$는 데이터셋에 있는 데이터들과 유사해야 한다. 즉, 얼굴 데이터셋을 가지고 생성모델을 만들었을 때, 해당 생성모델이 만든 $x$는 얼굴 영상 같이 보여야 한다는 뜻이다.\n",
        "\n",
        "이러한 현상을 확률적으로 말하자면, $p_{\\theta}(x)$가 최대화 되는 것이다.  같은 의미로 로그를 취한 형태인 $\\log p_{\\theta}(x)$ 역시 마찬가지로 최대화 되어야 한다.\n",
        "\n",
        "\n",
        "### VAE의 핵심 수식\n",
        "\n",
        "$\\log p_{\\theta}(x)$를 다음과 같이 우리가 도입한 컨트롤 가능한 latent parameter $z$와 결부시켜 보자.\n",
        "\n",
        "$$ \\log p_{\\theta}(x) = \\mathbb{E}_{z \\sim q_{\\phi}(z|x)} [ \\log p_{\\theta}(x) ] $$\n",
        "\n",
        "즉, 컨트롤 파라메터 $z$를 랜덤하게 뽑아 이로부터 만들어낸 $\\log p_{\\theta}(x)$의 기대값은 최대가 되어야 한다. 식을 좀 더 정리하면, 다음과 같다.\n",
        "\n",
        "$$\n",
        "\\begin{align} \\log p_{\\theta}(x)\n",
        "&= \\mathbb{E}_{z \\sim q_{\\phi}(z|x)} [ \\log p_{\\theta}(x) ] \\\\\n",
        "&= \\mathbb{E}_{z \\sim q_{\\phi}(z|x)} \\left[ \\log \\left[\\frac{p_{\\theta}(x,z)}{p_{\\theta}(z|x)} \\right] \\right] \\\\\n",
        "&= \\mathbb{E}_{z \\sim q_{\\phi}(z|x)} \\left[ \\log \\left[\\frac{p_{\\theta}(x,z)}{q_{\\phi}(z|x)} \\frac{q_{\\phi}(z|x)}{p_{\\theta}(z|x)} \\right] \\right] \\\\\n",
        "&= \\mathbb{E}_{z \\sim q_{\\phi}(z|x)} \\left[ \\log \\left[\\frac{p_{\\theta}(x,z)}{q_{\\phi}(z|x)} \\right] \\right]\n",
        "  + \\mathbb{E}_{z \\sim q_{\\phi}(z|x)} \\left[ \\log \\left[\\frac{q_{\\phi}(z|x)}{p_{\\theta}(z|x)} \\right] \\right] \\\\\n",
        "&= \\mathcal{L}_{\\theta,  \\phi}(x) + D_{\\textrm{KL}}(q_{\\phi}(z|x)||p_{\\theta}(z|x))\n",
        "\\end{align}\n",
        "$$\n",
        "\n",
        "수식 전개를 거쳐 마지막에 도출된 $\\mathcal{L}_{\\theta,  \\phi}(x)$에 주목하도록 하자. $\\mathcal{L}_{\\theta,  \\phi}(x)$을 Evidence Lower BOund (이하, ELBO)라 하는데, VAE의 loss를 결정하는 중요한 항이다.\n",
        "\n",
        "<!-- 조건부 확률에서 $p_{\\theta}(x)$를 사건(evidence)라 부른다. 따라서, 우리의 목표는 $p(x)$를 최대화하는 것이다. 위 수식에는 evidence $p_{\\theta}(x)$를 로그 형태 $\\log p(x)$로 적었으므로, 우리의 목표는 로그 형태인 $\\log p(x)$를 최대화하는 것이다.\n",
        "\n",
        "\n",
        "* $\\mathcal{L}(x)$: Evidence Lower BOund (이하, ELBO)라 불리는 항으로 인코더 네트웍이 만들어낸 latent variable $z$에 대한 확률분포와 해당 latent variable $z$를 이용해 만들어낸 디코더 네트웍의 출력물 사이의 연관성을 측정한다.\n",
        "* $D_{\\textrm{KL}}(q_{\\phi}(z|x)||p_{\\theta}(z|x))$: 인코더 네트웍이 만들어낸 latent variable $z$의 확률분포와 우리가 원했던 latent variable $z$의 확률분포 사이의 연관성을 측정한다.\n",
        "\n",
        " -->\n",
        "\n",
        "### VAE 수식의 직관적 해석\n",
        "\n",
        "조건부 확률에서 $p_{\\theta}(x)$를 사건(evidence)라 부른다. 따라서, 우리의 목표는 $p_{\\theta}(x)$를 최대화하는 것이다. 위 수식에는 evidence $p_{\\theta}(x)$를 로그 형태 $\\log p_{\\theta}(x)$로 적었으므로, 우리의 목표는 로그 형태인 $\\log p_{\\theta}(x)$를 최대화하는 것이다.\n",
        "\n",
        "앞서 살펴보았듯이, $\\log p_{\\theta}(x)$에 대한 수식 전개를 거쳐 결국 다음과 같이 ELBO과  KL의 합으로 도출되었다.\n",
        "\n",
        "$$ \\log p_{\\theta}(x) = \\mathcal{L}_{\\theta,  \\phi}(x) + D_{\\textrm{KL}}(q_{\\phi}(z|x)||p_{\\theta}(z|x)) $$\n",
        "\n",
        "그런데, KL 항은 두 확률분포의 차이, 즉 거리의 개념을 가지고 있기 때문에 항상 0보다 크다.\n",
        "\n",
        "따라서, $\\log p_{\\theta}(x)$을 최대화 하려면 ELBO 항을 최대로 만들어 자연스럽게 KL 항이 최소화 되도록 해야한다.\n",
        "\n",
        "\n",
        "### ELBO 최대화\n",
        "ELBO 수식은 다음과 같은 의미를 가진다.\n",
        "\n",
        "> $\\mathbb{E}_{z \\sim q_{\\phi}(z|x)} \\left[ \\log \\left[\\frac{p_{\\theta}(x,z)}{q_{\\phi}(z|x)} \\right] \\right]$: 인코더 네트웍이 만들어낸 latent variable $z$에 대한 확률분포  $q_{\\phi}(z|x)$ 와 해당 latent variable $z$를 이용해 만들어낸 디코더 네트웍의 출력물  $p_{\\theta}(x,z)=p_{\\theta}(z)p_{\\theta}(x|z)$ 사이의 연관성을 측정한다.\n",
        "\n",
        "ELBO를 최대화 한다는 의미는 인코더 $q_{\\phi}$가 만들어낸 latent variable $z$로 만들어낼 결과물 $p_{\\theta}(z)p_{\\theta}(x|z)$, 즉 $p_{\\theta}(x,z)$와는 관련이 없으면 없을수록 좋다. 당연히도, VAE에서 만들어내는 latent space는 VAE의 결과물과 달라야 하기 때문에 ELBO는 최대화(maximization) 해야하는 것이 말이 된다.\n",
        "\n",
        "ELBO 수식을 전개하면 다음과 같다.\n",
        "\n",
        "\n",
        "$$\n",
        "\\begin{align}\n",
        "\\mathbb{E}_{z \\sim q_{\\phi}(z|x)} \\left[ \\log \\left[\\frac{p(x,z)}{q_{\\phi}(z|x)} \\right] \\right]\n",
        "&= \\mathbb{E}_{z \\sim q_{\\phi}(z|x)} \\left[ \\log p_{\\theta}(x,z) - \\log q_{\\phi}(z|x) \\right] \\\\\n",
        "&= \\mathbb{E}_{z \\sim q_{\\phi}(z|x)} \\left[ \\log p_{\\theta}(x|z) + \\log p_{\\theta}(z) - \\log q_{\\phi}(z|x) \\right] \\\\\n",
        "&= \\mathbb{E}_{z \\sim q_{\\phi}(z|x)} \\left[ \\log p_{\\theta}(x|z) \\right] - \\mathbb{E}_{z \\sim q_{\\phi}(z|x)} \\left[ \\log q_{\\phi}(z|x) - \\log p_{\\theta}(z) \\right] \\\\\n",
        "&= \\mathbb{E}_{z \\sim q_{\\phi}(z|x)} \\left[ \\log p_{\\theta}(x|z) \\right] - \\mathbb{E}_{z \\sim q_{\\phi}(z|x)} \\left[ \\log \\left[ \\frac{q_{\\phi}(z|x)}{p_{\\theta}(z)} \\right] \\right] \\\\\n",
        "&= \\mathbb{E}_{z \\sim q_{\\phi}(z|x)} \\left[ \\log p_{\\theta}(x|z) \\right] - D_{\\textrm{KL}}(q_{\\phi}(z|x) || p_{\\theta}(z)) \\\\\n",
        "\\end{align}\n",
        "$$\n",
        "\n",
        "ELBO를 최대화 하는 것은 다음의 두가지 의미를 갖는다.\n",
        "* $\\mathbb{E}_{z \\sim q_{\\phi}(z|x)} \\left[ \\log p_{\\theta}(x|z) \\right]$ 최대화: 이 항은 latent variable로 복구된 결과 $x$에 대한 기대값이다. 이 항을 다른 말로 **reconstruction term**이라 한다. ELBO가 최대화되려면 reconstruction term으로 복구된 결과의 기대값이 높아야 할 것이다.\n",
        "* $- D_{\\textrm{KL}}(q_{\\phi}(z|x) || \\log p_{\\theta}(z))$ 최대화: 이 항은 인코더 네트웍이 만들어낸 latent variable $z$의 확률분포와 우리가 원했던 latent variable $z$의 확률분포 사이의 연관성을 설명한다. 당연히 그 연관성이 높아야 하므로 $D_{\\textrm{KL}}$은 최소로 되어야 하고, $-D_{\\textrm{KL}}$는 최대화 되어야 할 것이다. 이 항을 다른 말로 **regularization term**이라 한다.\n",
        "\n",
        "### VAE loss 수식\n",
        "\n",
        "VAE를 훈련할 때 쓰이는 loss 함수는 ELBO를 최대화 하는 방향이어야 한다. 일반적으로 loss는 최소화 되도록 설계되기 때문에, VAE의 loss는 다음과 같다.\n",
        "\n",
        "$$\n",
        "\\begin{align}\n",
        "\\textrm{VAE loss}\n",
        "&= -\\textrm{ELBO} \\\\\n",
        "&= - \\mathbb{E}_{z \\sim q_{\\phi}(z|x)} \\left[ \\log p(x|z) \\right] + D_{\\textrm{KL}}(q_{\\phi}(z|x) || p_{\\theta}(z)) \\\\\n",
        "\\end{align}\n",
        "$$\n",
        "\n",
        "\n",
        "\n",
        "<!-- ## 2.2 The variational bound\n",
        "각 데이터 $x^{(i)}$에 대한 marginal likelihood는 다음과 같다.\n",
        "\n",
        "\n",
        "$\\log p_{\\theta}(x^{(i)}) = D_{\\textrm{KL}}(q_\\phi(z|x^{(i)}) || p_{\\theta}(z|x^{(i)})) + \\mathcal{L}(\\theta, \\phi, x^{(i)})$\n",
        "\n",
        "오른쪽 항에 2개의 텀이 있는데\n",
        "* 하나는 true posterior와 approximation의 차이를 재는 KL diverence이고,\n",
        "* 다른 하나는 ELBO라 불리우는 evidence lower bound이다.\n",
        "\n",
        "KL은 음수가 아니기 때문에 각 데이터의 marginal likelihood 와 ELBO는 다음의 상관관계를 가진다.\n",
        "\n",
        "$$\\log p_{\\theta}(x^{(i)}) \\geq \\mathcal{L}(\\theta, \\phi, x^{(i)}) = \\mathbb{E}_{q_{\\phi}(z|x)}[-\\log q_{\\phi}(z|x) + \\log p_{\\theta}(x,z)]$$\n",
        "\n",
        "\n",
        "ELBO에 관해서만 다시 수식을 정리하면,\n",
        "\n",
        "$$\\mathcal{L}(\\theta, \\phi, x^{(i)}) = -D_{\\mathrm{KL}}(q_{\\phi}(z|x^{(i)}) || p_{\\theta}(z)) + \\mathbb{E}_{q_{\\phi}(z|x^{(i)})}[\\log p_{\\theta}(x^{(i)}|z)]$$\n",
        "\n",
        "\n",
        "주목해야할 것은 ELBO $\\mathcal{L}(\\theta, \\phi, x^{(i)}) $이 variational parameter $\\phi$와 generative parameter $\\theta$에 모두 연관되어 있다는 것이다.  따라서, 두 파라메터에 대해 각각 미분가능함을 보이고 최적화하는 방식이 필요하다.  \n",
        "\n",
        "\n",
        "그런데, variational parameter $\\phi$에 대한 단순한 Monte Carlo gradient estimator는 다음과 같이\n",
        "\n",
        "$$\\nabla_\\phi \\mathbb{E}_{q_{\\phi}(z)}[f(z)] = \\mathbb{E}_{q_{\\phi}(z)} [f(z) \\nabla_{q_{\\phi}(z)}\\log q_\\phi(z)]  \\simeq \\frac{1}{L} \\sum_{l=1}^{L} f(z) \\nabla_{q_{\\phi}(z)} \\log q_\\phi(z)$$,\n",
        "where\n",
        "$$ z^{(l)} \\sim q_{\\phi}(z|x^{(i)})$$\n",
        "\n",
        "인데, [BJP12]에서 밝혀졌듯이 높은 분산을 가져 이 방식은 곤란한다.\n",
        " -->\n",
        "\n"
      ]
    },
    {
      "cell_type": "markdown",
      "metadata": {
        "id": "NoqA6HOrT4ch"
      },
      "source": [
        "## Reparameterization Trick\n",
        "\n",
        "뉴럴넷을 recognition 모델로 쓸 경우, 본 논문에서 제안하는 내용이 variational auto-encoder가 된다.\n",
        "\n",
        "Variational approximate posterior를 다음과 같이 multivariate Gaussian으로 잡도록 하자.\n",
        "\n",
        "$$\\log q_{\\phi} (z | x^{(i)}) = \\log\\mathcal{N}(z; \\mu^{(i)}, \\sigma^{2(i)}\\mathbf{I})$$\n",
        "\n",
        "\n",
        "이제 다음의 ELBO 수식의\n",
        "\n",
        "$$\\mathcal{L}(\\theta, \\phi, x^{(i)}) \\simeq  -D_{\\mathrm{KL}}(q_{\\phi}(z|x^{(i)}) || p_{\\theta}(z)) + \\mathbb{E}_{q_{\\phi}(z|x^{(i)})}[\\log p_{\\theta}(x^{(i)}|z)]$$\n",
        "\n",
        "\n",
        "우항 첫번째 term은 다음과 같이 쓸 수 있다.\n",
        "$$ -D_{\\mathrm{KL}}(q_{\\phi}(z|x^{(i)}) || p_{\\theta}(z)) = \\frac{1}{2} \\sum_{j=1}^{J} \\left( 1 + \\log((\\sigma_{j}^{(i)})^2)) - (\\mu_j^{(i)})^2 - (\\sigma_j^{(i)})^2 \\right) $$\n",
        "\n",
        "여기서 $J$는 latent space의 dimension을 나타낸다.\n",
        "\n",
        "\n",
        "우항 두번째 term은 Monte Carlo estimation으로 다음과 같이 쓸 수 있다.\n",
        "$$\\mathbb{E}_{q_{\\phi}(z|x^{(i)})}[\\log p_{\\theta}(x^{(i)}|z)] = \\frac{1}{L}\\sum_{l=1}^{L} \\log p_{\\theta}(x^{(i)}|z^{(i,l)})$$\n",
        "\n",
        "여기서 $L$은 몬테카를로 샘플 개수를 나타낸다.\n",
        "\n",
        "\n",
        "\n",
        "따라서, ELBO 수식은 다음과 같이 근사될 수 있다.\n",
        "$$\\mathcal{L}(\\theta, \\phi, x^{(i)}) \\simeq  \\frac{1}{2} \\sum_{j=1}^{J} \\left( 1 + \\log((\\sigma_{j}^{(i)})^2)) - (\\mu_j^{(i)})^2 - (\\sigma_j^{(i)})^2 \\right) + \\frac{1}{L}\\sum_{l=1}^{L} \\log p_{\\theta}(x^{(i)}|z^{(i,l)})$$\n",
        "\n",
        "\n",
        "### 원시적인 구현\n",
        "텐서플로우 2.0 튜토리얼에 나와 있듯이, 위 수식을 그대로 구현하는 방법이 있다.\n",
        "* [Reparameterization Trick](https://www.tensorflow.org/alpha/tutorials/generative/cvae#reparameterization_trick)\n",
        "\n",
        "파이토치의 경우, torch.distributions를 이용하면 구현할 수 있다.\n"
      ]
    },
    {
      "cell_type": "code",
      "metadata": {
        "id": "uEQ7rqPrAkLf",
        "colab": {
          "base_uri": "https://localhost:8080/"
        },
        "outputId": "ada478fc-da78-4369-835e-aeab5134a237"
      },
      "source": [
        "import sys\n",
        "import time\n",
        "import numpy as np\n",
        "import matplotlib.pyplot as plt\n",
        "\n",
        "import torch                                      # 파이토치 임포트\n",
        "import torch.nn as nn                             # nn 모듈 임포트\n",
        "import torch.nn.functional as F\n",
        "import torch.distributions as td                   # torch distribution 임포트\n",
        "from torch.utils.data import TensorDataset\n",
        "\n",
        "import torchvision                                # torchvision 임포트\n",
        "import torchvision.utils as utils\n",
        "import torchvision.transforms as transforms       # numpy 이미지에서 tensor 이미지로 변경하기 위한 모듈\n",
        "import torchvision.datasets as datasets           # pytorch에 내장된 dataset을 불러오기 위한 모듈\n",
        "\n",
        "from tqdm import tqdm\n",
        "from torchvision.utils import save_image\n",
        "\n",
        "print(\"Python:\", sys.version)\n",
        "print(\"Numpy:\", np.__version__)\n",
        "\n",
        "print(\"Torch: \", torch.__version__)               # 파이토치 버전을 확인하도록 한다.\n",
        "print(\"Torchvision: \", torchvision.__version__)   # 토치비전 버전을 확인하도록 한다.\n"
      ],
      "execution_count": null,
      "outputs": [
        {
          "output_type": "stream",
          "name": "stdout",
          "text": [
            "Python: 3.9.16 (main, Dec  7 2022, 01:11:51) \n",
            "[GCC 9.4.0]\n",
            "Numpy: 1.22.4\n",
            "Torch:  1.13.1+cu116\n",
            "Torchvision:  0.14.1+cu116\n"
          ]
        }
      ]
    },
    {
      "cell_type": "markdown",
      "metadata": {
        "id": "FAIVcLgIWBVi"
      },
      "source": [
        "## GPU 동작 확인"
      ]
    },
    {
      "cell_type": "code",
      "metadata": {
        "colab": {
          "base_uri": "https://localhost:8080/"
        },
        "id": "EZQtdtqMWA4r",
        "outputId": "9bcd26ff-2253-4b3b-88fc-5a7a0b8a81d7"
      },
      "source": [
        "device = torch.device(\"cuda:0\" if torch.cuda.is_available() else \"cpu\")\n",
        "print(device)\n",
        "use_cuda = torch.cuda.is_available()\n",
        "print(use_cuda)\n",
        "if use_cuda:\n",
        "  print(torch.cuda.get_device_name(0))"
      ],
      "execution_count": null,
      "outputs": [
        {
          "output_type": "stream",
          "name": "stdout",
          "text": [
            "cuda:0\n",
            "True\n",
            "Tesla T4\n"
          ]
        }
      ]
    },
    {
      "cell_type": "markdown",
      "metadata": {
        "id": "vBaiv1P5WEIS"
      },
      "source": [
        "## Hyperparameter 설정\n",
        "* batch size, learning rate, epoch을 설정"
      ]
    },
    {
      "cell_type": "code",
      "metadata": {
        "id": "4sxCBg0SWMrb"
      },
      "source": [
        "batch_size = 100\n",
        "learning_rate = 0.001\n",
        "num_epochs = 20\n",
        "\n",
        "num_classes = 10"
      ],
      "execution_count": null,
      "outputs": []
    },
    {
      "cell_type": "markdown",
      "metadata": {
        "id": "oHgLjtaHWRmp"
      },
      "source": [
        "## MNIST 데이터셋 띄우기\n",
        "![MnistExamples.png](https://upload.wikimedia.org/wikipedia/commons/2/27/MnistExamples.png)\n",
        "* mnist 데이터셋은 숫자(digit) 손글씨 데이터셋이다.\n",
        "* 60,000개의 트레이닝 데이터와 10,000개의 테스트 데이터로 이루어져 있다.\n",
        "* LeCun이 자신의 연구에서 활용하고 배포한 데이터셋이 있으나 최근 보편적으로 많이 활용하기 때문에 텐서플로우나 파이토치 등에서 built-in 데이터셋의 형태로 제공해 주기도 한다.  \n",
        "\n",
        "### MNIST 이미지 데이터\n",
        "* MNIST 데이터셋은 여러 버젼이 있으나, 여기서는 이를 파이토치에 맞게 정리하여 torchvision.datasets에서 built-in으로 제공하는 데이터셋을 쓰도록 하겠다. ([link](https://pytorch.org/vision/main/generated/torchvision.datasets.MNIST.html))\n",
        "  + (PIL image, integer label)로 구성된 데이터를 제공.\n",
        "  + PIL image는 각 픽셀이 [0, 255] 사이값으로 구성된 H x W x C 크기의 이미지이다.\n",
        "* 뉴럴넷의 입력으로 넣기 위해 픽셀값이 0 근처에 있는 작은 실수값을 가지도록 다음과 같이 변환한다.\n",
        "  + ToTensor(): [0, 255] 사이 값을 [0.0, 1.0] 사이값으로 변화시킴과 동시에 C x H x W 형태로 변환시킨다."
      ]
    },
    {
      "cell_type": "code",
      "metadata": {
        "id": "DWGE98h2MDSs",
        "colab": {
          "base_uri": "https://localhost:8080/",
          "height": 423,
          "referenced_widgets": [
            "5f119bdd5db54f63a909477c990e5195",
            "de45bec5bd114d46991170e795e212c4",
            "a5a349a1df1141adb0d7d1e74e25bc8c",
            "95220921f98e472fab01691c07345f1d",
            "6c32832eb26e4267ac7f8bd138213bb1",
            "37221c4b74354809a1f99d55797ed31a",
            "a3c391d19c6b45438ecbb818d2d0c854",
            "9f377dae95324f23a139049a30874362",
            "fd49d2c70c304fdcb1f09c3ee0049414",
            "093eb47e90c5462698a1359820381408",
            "c6056d02ccb541528fa76208cd666221",
            "d3d3049e79d04d69b0c3bf49b3aed242",
            "f04b07a3ee014e52ae4c614544f6c673",
            "068d363e75384d02b2a30dca581d4f97",
            "05214a51433c413aafdb96afe8302979",
            "396045354bc740c18b310fe965b56409",
            "cbc1e54393f24e8094e48f6e7f12561b",
            "43dd6526b9534932a79553cbb3afd7d8",
            "23341cdaff2847eea18df3b30b5af361",
            "f316d9eb760a41e8aa099e78d6e33c68",
            "10bcf85f7772436986c2d2a6468341c1",
            "f1b29c9d88f84143a57885d4d2a60620",
            "c207da93c40c4d069f452563dd02d189",
            "e17e3aa8eb06424794f741bf50738d13",
            "21ace1986feb492aa5bdda2116080f2c",
            "b4d223a53afb4eef881cc904d494f09b",
            "5bab4e509b2447f192cdd738a7a633c6",
            "2477b75900284d85b3f610c2141faead",
            "d4d4dd882b634b9d97d826057e09677b",
            "061de9886a8f41759959fba05acbc1b8",
            "6e68e68d7d4446e690b00b970f4789b2",
            "daca56ab537e43f88afb8165a11740a5",
            "cfa95fcad7dc4e83913a2e7e87aa14fb",
            "704540ac9a7a459c9a3bbacb008487d3",
            "5895e527143540a48758c3fb247818d7",
            "92290824171e4c42b65daa962b523c98",
            "e8c0c39c7d2c41d498d2bf6533aeaa93",
            "1ed12f96a1a6451fa0fad904fa2a4ce9",
            "abbda9c773c5470d85aca2364b68cc03",
            "3a92d73627c0462fa2d70444710295a9",
            "4bfda0913a5b4e86b1c0e48bb01ba909",
            "f3f354c8b340421daeb63589fb4a99e1",
            "c9065843112a4c5497dd6d7cf3ccc6b0",
            "9a732b3ca87d4e55b2e984f38574e388"
          ]
        },
        "outputId": "58ed08a3-9a36-47ce-f60d-9b321be67617"
      },
      "source": [
        "import torchvision.transforms as transforms\n",
        "from torchvision.datasets import MNIST\n",
        "\n",
        "# download path 정의\n",
        "download_root = './MNIST_DATASET'\n",
        "\n",
        "\n",
        "# PIL image (H x W x C) -> torch tensor (C x H x W) and\n",
        "# [0, 255] -> [0.0, 1.0]\n",
        "mnist_transform = transforms.Compose([\n",
        "    transforms.ToTensor(),\n",
        "])\n",
        "\n",
        "train_dataset = MNIST(download_root,\n",
        "                      transform=mnist_transform,\n",
        "                      train=True,\n",
        "                      download=True)\n",
        "\n",
        "test_dataset = MNIST(download_root,\n",
        "                     transform=mnist_transform,\n",
        "                     train=False,\n",
        "                     download=False)"
      ],
      "execution_count": null,
      "outputs": [
        {
          "output_type": "stream",
          "name": "stdout",
          "text": [
            "Downloading http://yann.lecun.com/exdb/mnist/train-images-idx3-ubyte.gz\n",
            "Downloading http://yann.lecun.com/exdb/mnist/train-images-idx3-ubyte.gz to ./MNIST_DATASET/MNIST/raw/train-images-idx3-ubyte.gz\n"
          ]
        },
        {
          "output_type": "display_data",
          "data": {
            "text/plain": [
              "  0%|          | 0/9912422 [00:00<?, ?it/s]"
            ],
            "application/vnd.jupyter.widget-view+json": {
              "version_major": 2,
              "version_minor": 0,
              "model_id": "5f119bdd5db54f63a909477c990e5195"
            }
          },
          "metadata": {}
        },
        {
          "output_type": "stream",
          "name": "stdout",
          "text": [
            "Extracting ./MNIST_DATASET/MNIST/raw/train-images-idx3-ubyte.gz to ./MNIST_DATASET/MNIST/raw\n",
            "\n",
            "Downloading http://yann.lecun.com/exdb/mnist/train-labels-idx1-ubyte.gz\n",
            "Downloading http://yann.lecun.com/exdb/mnist/train-labels-idx1-ubyte.gz to ./MNIST_DATASET/MNIST/raw/train-labels-idx1-ubyte.gz\n"
          ]
        },
        {
          "output_type": "display_data",
          "data": {
            "text/plain": [
              "  0%|          | 0/28881 [00:00<?, ?it/s]"
            ],
            "application/vnd.jupyter.widget-view+json": {
              "version_major": 2,
              "version_minor": 0,
              "model_id": "d3d3049e79d04d69b0c3bf49b3aed242"
            }
          },
          "metadata": {}
        },
        {
          "output_type": "stream",
          "name": "stdout",
          "text": [
            "Extracting ./MNIST_DATASET/MNIST/raw/train-labels-idx1-ubyte.gz to ./MNIST_DATASET/MNIST/raw\n",
            "\n",
            "Downloading http://yann.lecun.com/exdb/mnist/t10k-images-idx3-ubyte.gz\n",
            "Downloading http://yann.lecun.com/exdb/mnist/t10k-images-idx3-ubyte.gz to ./MNIST_DATASET/MNIST/raw/t10k-images-idx3-ubyte.gz\n"
          ]
        },
        {
          "output_type": "display_data",
          "data": {
            "text/plain": [
              "  0%|          | 0/1648877 [00:00<?, ?it/s]"
            ],
            "application/vnd.jupyter.widget-view+json": {
              "version_major": 2,
              "version_minor": 0,
              "model_id": "c207da93c40c4d069f452563dd02d189"
            }
          },
          "metadata": {}
        },
        {
          "output_type": "stream",
          "name": "stdout",
          "text": [
            "Extracting ./MNIST_DATASET/MNIST/raw/t10k-images-idx3-ubyte.gz to ./MNIST_DATASET/MNIST/raw\n",
            "\n",
            "Downloading http://yann.lecun.com/exdb/mnist/t10k-labels-idx1-ubyte.gz\n",
            "Downloading http://yann.lecun.com/exdb/mnist/t10k-labels-idx1-ubyte.gz to ./MNIST_DATASET/MNIST/raw/t10k-labels-idx1-ubyte.gz\n"
          ]
        },
        {
          "output_type": "display_data",
          "data": {
            "text/plain": [
              "  0%|          | 0/4542 [00:00<?, ?it/s]"
            ],
            "application/vnd.jupyter.widget-view+json": {
              "version_major": 2,
              "version_minor": 0,
              "model_id": "704540ac9a7a459c9a3bbacb008487d3"
            }
          },
          "metadata": {}
        },
        {
          "output_type": "stream",
          "name": "stdout",
          "text": [
            "Extracting ./MNIST_DATASET/MNIST/raw/t10k-labels-idx1-ubyte.gz to ./MNIST_DATASET/MNIST/raw\n",
            "\n"
          ]
        }
      ]
    },
    {
      "cell_type": "markdown",
      "source": [
        "## 데이터셋 확인\n",
        "데이터셋을 로딩한 후 **데이터셋 구성**이 어떻게 되어 있는지 **반드시 확인**하는 습관을 가지도록 한다.\n",
        "\n",
        "torchvision.datasets.MNIST 데이터셋의 각 데이터는 (이미지, 레이블)로 구성된 튜플이다.\n",
        "\n",
        "다음은 MNIST 데이터셋에 있는 이미지와 레이블에 대한 각종 정보를 확인하는 코드이다.\n",
        "\n",
        "해당 코드를 통해 다음 사항을 확인할 수 있다.\n",
        "* train_dataset의 길이는 60,000이다.\n",
        "* test_dataset의 길이는 10,000이다.\n",
        "\n",
        "### MNIST 이미지 데이터\n",
        "* 각 이미지는 C X H x W 순서로 구성된 [1, 28, 28] 모양의 텐서로 로딩되었다.\n",
        "* 각 이미지 픽셀값은 ToTensor() 변환을 통해 [0.0, 1.0] 사이의 값으로 변환되었다.\n",
        "* 각 이미지 픽셀값은 `torch.float32` 타입이다.\n",
        "* 각 레이블 값의 타입은 파이썬 `int` 형이다.\n",
        "\n",
        "### MNIST 라벨 데이터\n",
        "* 각 레이블 값은 [0, 9] 사이의 파이썬 `int`형이다."
      ],
      "metadata": {
        "id": "FBpv8ihJbbYZ"
      }
    },
    {
      "cell_type": "markdown",
      "metadata": {
        "id": "6ll42xIFWXi5"
      },
      "source": [
        "## MNIST DataLoader 정의\n",
        "\n",
        "파이토치 데이터로더는 데이터셋을 배치단위로 묶어 순회(iteration)할 수 있도록 한다.\n",
        "\n",
        "아래 코드는 데이터셋에 대한 데이터로더를 만들고, 각 배치가 어떤 텐서 형태로 구성되어 있는지 확인하는 코드이다.\n",
        "* 데이터로더에서는 이미지들이 배치단위로 묶였기 때문에, [B, C, H, W] 모양의 텐서가 되었음을 확인하자.\n",
        "* 데이터로더에서는 레이블들이 배치단위로 묶였기 때문에, [B] 모양의 텐서가 되었음을 확인하자.\n",
        "\n",
        "train_dataset과 test_dataset은 동일 형태이므로, train_dataset의 데이터로더에 대해서만 확인하였다.\n"
      ]
    },
    {
      "cell_type": "code",
      "metadata": {
        "colab": {
          "base_uri": "https://localhost:8080/"
        },
        "id": "T9OnIrAKWVn4",
        "outputId": "da3321c3-f4c6-44da-dd92-9733ccf6edea"
      },
      "source": [
        "from torch.utils.data import DataLoader\n",
        "\n",
        "# dataloader 정의\n",
        "train_loader = DataLoader(dataset=train_dataset,\n",
        "                          batch_size=batch_size,\n",
        "                          shuffle=True)\n",
        "\n",
        "test_loader = DataLoader(dataset=test_dataset,\n",
        "                         batch_size=batch_size,\n",
        "                         shuffle=False)\n",
        "\n",
        "def print_MNIST_data_loader_info(data_loader):\n",
        "  print(\">>> dataset length: \", len(data_loader))\n",
        "  print(\">>> batch_size: \", data_loader.batch_size)\n",
        "  batch_images, batch_labels = next(iter(train_loader))\n",
        "  # batch size로 묶은 data 이미지의 형태 확인\n",
        "  print(\">>> batch_images type\", type(batch_images))\n",
        "  print(\">>> batch_images shape\", batch_images.shape)\n",
        "  print(\">>> batch_images dtype\", batch_images.dtype)\n",
        "\n",
        "print(\"train dataset\")\n",
        "print_MNIST_data_loader_info(train_loader)\n",
        "\n",
        "print(\"test dataset\")\n",
        "print_MNIST_data_loader_info(test_loader)"
      ],
      "execution_count": null,
      "outputs": [
        {
          "output_type": "stream",
          "name": "stdout",
          "text": [
            "train dataset\n",
            ">>> dataset length:  600\n",
            ">>> batch_size:  100\n",
            ">>> batch_images type <class 'torch.Tensor'>\n",
            ">>> batch_images shape torch.Size([100, 1, 28, 28])\n",
            ">>> batch_images dtype torch.float32\n",
            "test dataset\n",
            ">>> dataset length:  100\n",
            ">>> batch_size:  100\n",
            ">>> batch_images type <class 'torch.Tensor'>\n",
            ">>> batch_images shape torch.Size([100, 1, 28, 28])\n",
            ">>> batch_images dtype torch.float32\n"
          ]
        }
      ]
    },
    {
      "cell_type": "markdown",
      "metadata": {
        "id": "HkZSnrmNMSUy"
      },
      "source": [
        "## TODO 1.\n",
        "\n",
        "실습에 적용된 VAE 코드를 Conditional VAE 코드로 수정한다.\n",
        "<br/>\n",
        "이 때, 인코더와 디코더에 어떻게 텐서 형태를 취해 입력으로 줘야하는지 명시하고 이에 대해 논의한다."
      ]
    },
    {
      "cell_type": "markdown",
      "metadata": {
        "id": "GslfwOr5WbH5"
      },
      "source": [
        "## 모델 설계\n"
      ]
    },
    {
      "cell_type": "code",
      "metadata": {
        "id": "5lPjGbL4FAS3"
      },
      "source": [
        "enc_dim = 2"
      ],
      "execution_count": null,
      "outputs": []
    },
    {
      "cell_type": "code",
      "source": [
        "## TODO\n",
        "class ConditionalVAE(nn.Module):\n",
        "    def __init__(self):\n",
        "        super(ConditionalVAE, self).__init__()\n",
        "\n",
        "\n",
        "    def encoder(self, x, c):\n",
        "\n",
        "\n",
        "    def decoder(self, x, c):\n",
        "\n",
        "\n",
        "    def forward(self, x, c):\n",
        "\n",
        "\n",
        "vae = ConditionalVAE().to(device)\n",
        "print(vae)"
      ],
      "metadata": {
        "id": "LCWPm-w-dipI"
      },
      "execution_count": null,
      "outputs": []
    },
    {
      "cell_type": "code",
      "metadata": {
        "colab": {
          "base_uri": "https://localhost:8080/"
        },
        "id": "tvoSdXsaAMwt",
        "outputId": "383931fb-d4f3-4da6-ab14-9f6bd02d8099"
      },
      "source": [
        "class VAE(nn.Module):\n",
        "    def __init__(self):\n",
        "        super(VAE, self).__init__()\n",
        "\n",
        "        self.input = nn.Flatten()\n",
        "        self.fc1   = nn.Linear(784, 256)\n",
        "        self.fc2   = nn.Linear(256, 128)\n",
        "        self.fc3   = nn.Linear(128, 64)\n",
        "        self.fc4_1 = nn.Linear(64, enc_dim)\n",
        "        self.fc4_2 = nn.Linear(64, enc_dim)\n",
        "\n",
        "        self.fc5 = nn.Linear(enc_dim, 64)\n",
        "        self.fc6 = nn.Linear(64, 128)\n",
        "        self.fc7 = nn.Linear(128, 256)\n",
        "        self.fc8 = nn.Linear(256, 784)\n",
        "\n",
        "    def encoder(self, x):\n",
        "        x       = self.input(x)\n",
        "        x       = F.relu(self.fc1(x))\n",
        "        x       = F.relu(self.fc2(x))\n",
        "        x       = self.fc3(x)\n",
        "        mean    = self.fc4_1(x)\n",
        "        log_var = self.fc4_2(x)\n",
        "\n",
        "        return mean, log_var\n",
        "\n",
        "    def decoder(self, z):\n",
        "        z = F.relu(self.fc5(z))\n",
        "        z = F.relu(self.fc6(z))\n",
        "        z = F.relu(self.fc7(z))\n",
        "        z = torch.sigmoid(self.fc8(z))\n",
        "\n",
        "        return z\n",
        "\n",
        "    def forward(self, x):\n",
        "        mu, log_var = self.encoder(x.view(-1,784))\n",
        "\n",
        "        std = log_var.exp().pow(0.5)                    # logvar to std\n",
        "        q_z = td.normal.Normal(mu, std)                 # create a torch distribution\n",
        "        z = q_z.rsample()                               # sample with reparameterization\n",
        "\n",
        "        return self.decoder(z), q_z\n",
        "\n",
        "vae = VAE().to(device)\n",
        "print(vae)"
      ],
      "execution_count": null,
      "outputs": [
        {
          "output_type": "stream",
          "name": "stdout",
          "text": [
            "VAE(\n",
            "  (input): Flatten(start_dim=1, end_dim=-1)\n",
            "  (fc1): Linear(in_features=784, out_features=256, bias=True)\n",
            "  (fc2): Linear(in_features=256, out_features=128, bias=True)\n",
            "  (fc3): Linear(in_features=128, out_features=64, bias=True)\n",
            "  (fc4_1): Linear(in_features=64, out_features=2, bias=True)\n",
            "  (fc4_2): Linear(in_features=64, out_features=2, bias=True)\n",
            "  (fc5): Linear(in_features=2, out_features=64, bias=True)\n",
            "  (fc6): Linear(in_features=64, out_features=128, bias=True)\n",
            "  (fc7): Linear(in_features=128, out_features=256, bias=True)\n",
            "  (fc8): Linear(in_features=256, out_features=784, bias=True)\n",
            ")\n"
          ]
        }
      ]
    },
    {
      "cell_type": "code",
      "metadata": {
        "colab": {
          "base_uri": "https://localhost:8080/"
        },
        "id": "S3Mt7G9LLK0F",
        "outputId": "ccc34059-0a9c-427a-87cd-873691c5c8ab"
      },
      "source": [
        "!pip install torchinfo"
      ],
      "execution_count": null,
      "outputs": [
        {
          "output_type": "stream",
          "name": "stdout",
          "text": [
            "Looking in indexes: https://pypi.org/simple, https://us-python.pkg.dev/colab-wheels/public/simple/\n",
            "Collecting torchinfo\n",
            "  Downloading torchinfo-1.7.2-py3-none-any.whl (22 kB)\n",
            "Installing collected packages: torchinfo\n",
            "Successfully installed torchinfo-1.7.2\n"
          ]
        }
      ]
    },
    {
      "cell_type": "code",
      "metadata": {
        "colab": {
          "base_uri": "https://localhost:8080/"
        },
        "id": "yCiyPbD6LK2e",
        "outputId": "bedba35e-d3b7-4341-c3f3-1e8e921245b8"
      },
      "source": [
        "from torchinfo import summary\n",
        "\n",
        "summary(vae, [(batch_size, 1, 28, 28)])"
      ],
      "execution_count": null,
      "outputs": [
        {
          "output_type": "execute_result",
          "data": {
            "text/plain": [
              "==========================================================================================\n",
              "Layer (type:depth-idx)                   Output Shape              Param #\n",
              "==========================================================================================\n",
              "VAE                                      [100, 784]                --\n",
              "├─Flatten: 1-1                           [100, 784]                --\n",
              "├─Linear: 1-2                            [100, 256]                200,960\n",
              "├─Linear: 1-3                            [100, 128]                32,896\n",
              "├─Linear: 1-4                            [100, 64]                 8,256\n",
              "├─Linear: 1-5                            [100, 2]                  130\n",
              "├─Linear: 1-6                            [100, 2]                  130\n",
              "├─Linear: 1-7                            [100, 64]                 192\n",
              "├─Linear: 1-8                            [100, 128]                8,320\n",
              "├─Linear: 1-9                            [100, 256]                33,024\n",
              "├─Linear: 1-10                           [100, 784]                201,488\n",
              "==========================================================================================\n",
              "Total params: 485,396\n",
              "Trainable params: 485,396\n",
              "Non-trainable params: 0\n",
              "Total mult-adds (M): 48.54\n",
              "==========================================================================================\n",
              "Input size (MB): 0.31\n",
              "Forward/backward pass size (MB): 1.35\n",
              "Params size (MB): 1.94\n",
              "Estimated Total Size (MB): 3.60\n",
              "=========================================================================================="
            ]
          },
          "metadata": {},
          "execution_count": 14
        }
      ]
    },
    {
      "cell_type": "code",
      "metadata": {
        "id": "lFl-1jS2NcUN",
        "colab": {
          "base_uri": "https://localhost:8080/",
          "height": 268,
          "referenced_widgets": [
            "3c351ad2a6914961a2f7c7405a50158c",
            "1cd08e1612d34d00a28d1fe30366caf7",
            "6eba6ff5f8ac43aa9c00532a7c399c59",
            "bfa651ad748f4baa969c3062a7258423",
            "68b3bf55a4ff41749b51797d89b55129",
            "e124fbdae219447b96501f4297a660ee",
            "7b151a0bcc7f48cf81cd5e61e0407026"
          ]
        },
        "outputId": "d1e3f5b7-63fb-4392-c2cb-62fc89ab041c"
      },
      "source": [
        "import matplotlib.pyplot as plt\n",
        "from torchvision.transforms.functional import to_pil_image\n",
        "import ipywidgets as widgets\n",
        "\n",
        "def train_dataset_imshow(idx):\n",
        "  (image, label) = train_dataset[idx]\n",
        "  print('GT label:', label)\n",
        "\n",
        "  X         = torch.unsqueeze(image, 0).to(device) # batch size = 1\n",
        "  Y_pred, _ = vae(X)\n",
        "  Y_pred    = Y_pred.view(1, 28, 28)\n",
        "\n",
        "  input_img  = to_pil_image(X.squeeze())\n",
        "  output_img = to_pil_image(Y_pred.squeeze())\n",
        "\n",
        "  plt.subplot(121)\n",
        "  plt.imshow(input_img, cmap='gray')\n",
        "\n",
        "  plt.subplot(122)\n",
        "  plt.imshow(output_img, cmap='gray')\n",
        "\n",
        "  plt.show()\n",
        "\n",
        "widgets.interact(train_dataset_imshow, idx=widgets.IntSlider(min=0, max=len(train_dataset)-1, continuous_update=False))"
      ],
      "execution_count": null,
      "outputs": [
        {
          "output_type": "display_data",
          "data": {
            "text/plain": [
              "interactive(children=(IntSlider(value=0, continuous_update=False, description='idx', max=59999), Output()), _d…"
            ],
            "application/vnd.jupyter.widget-view+json": {
              "version_major": 2,
              "version_minor": 0,
              "model_id": "3c351ad2a6914961a2f7c7405a50158c"
            }
          },
          "metadata": {}
        },
        {
          "output_type": "execute_result",
          "data": {
            "text/plain": [
              "<function __main__.train_dataset_imshow(idx)>"
            ]
          },
          "metadata": {},
          "execution_count": 15
        }
      ]
    },
    {
      "cell_type": "markdown",
      "source": [
        "### 테스트를 위한 임시 loader 생성"
      ],
      "metadata": {
        "id": "EgD2zY07SWKI"
      }
    },
    {
      "cell_type": "code",
      "source": [
        "tmp_loader = DataLoader(dataset=train_dataset,\n",
        "                          batch_size=60000,\n",
        "                          shuffle=True)"
      ],
      "metadata": {
        "id": "nh00RF7mSVmk"
      },
      "execution_count": null,
      "outputs": []
    },
    {
      "cell_type": "code",
      "metadata": {
        "colab": {
          "base_uri": "https://localhost:8080/"
        },
        "id": "m6mIYwXrRils",
        "outputId": "2f976c1f-5590-48b2-b873-e95abe65ce4d"
      },
      "source": [
        "batch_images, batch_labels = next(iter(tmp_loader))\n",
        "\n",
        "batch_images, batch_labels = batch_images.to(device), batch_labels.to(device)\n",
        "\n",
        "enc_mean, enc_var = vae.encoder(batch_images)\n",
        "\n",
        "if use_cuda:\n",
        "  std = enc_var.exp().pow(0.5)\n",
        "  q_z = td.normal.Normal(enc_mean, std)\n",
        "  z = q_z.rsample()\n",
        "  y = vae.decoder(z).reshape(len(batch_images), 1, 28, 28).to(device)\n",
        "\n",
        "else:\n",
        "  std = enc_var.exp().pow(0.5)\n",
        "  q_z = td.normal.Normal(enc_mean, std)\n",
        "  z = q_z.rsample()\n",
        "  y = vae.decoder(z).reshape(len(batch_images), 1, 28, 28)\n",
        "\n",
        "print(y.shape)"
      ],
      "execution_count": null,
      "outputs": [
        {
          "output_type": "stream",
          "name": "stdout",
          "text": [
            "torch.Size([60000, 1, 28, 28])\n"
          ]
        }
      ]
    },
    {
      "cell_type": "code",
      "metadata": {
        "colab": {
          "base_uri": "https://localhost:8080/",
          "height": 282
        },
        "id": "hMYHTyyxRfF0",
        "outputId": "51b4ba0b-4cb0-4f34-b286-1a0bdf3d974b"
      },
      "source": [
        "import matplotlib.pyplot as plt\n",
        "\n",
        "pt = z.cpu().detach().numpy()\n",
        "\n",
        "plt.plot(pt[:,0], pt[:,1], \"go\", alpha=0.1)"
      ],
      "execution_count": null,
      "outputs": [
        {
          "output_type": "execute_result",
          "data": {
            "text/plain": [
              "[<matplotlib.lines.Line2D at 0x7fb98d9be5e0>]"
            ]
          },
          "metadata": {},
          "execution_count": 18
        },
        {
          "output_type": "display_data",
          "data": {
            "text/plain": [
              "<Figure size 432x288 with 1 Axes>"
            ],
            "image/png": "[encoded data removed]"
          },
          "metadata": {
            "needs_background": "light"
          }
        }
      ]
    },
    {
      "cell_type": "markdown",
      "metadata": {
        "id": "SpDdVW8wMepz"
      },
      "source": [
        "**VAE Loss Function**\n",
        "\n",
        "$$\n",
        "\\begin{align}\n",
        "\\textrm{VAE loss}\n",
        "&= -\\textrm{ELBO} \\\\\n",
        "&= - \\mathbb{E}_{z \\sim q_{\\phi}(z|x)} \\left[ \\log p(x|z) \\right] + D_{\\textrm{KL}}(q_{\\phi}(z|x) || p_{\\theta}(z)) \\\\\n",
        "\\end{align}\n",
        "$$"
      ]
    },
    {
      "cell_type": "code",
      "metadata": {
        "id": "wGRY2Y5cL9ni"
      },
      "source": [
        "# optimizer,loss 설정\n",
        "def criterion(x_hat, x, q_z):\n",
        "    BCE = F.binary_cross_entropy(x_hat, x.view(-1,784), reduction='sum')\n",
        "    p_z = td.normal.Normal(torch.zeros_like(q_z.loc), torch.ones_like(q_z.scale))\n",
        "    KLD = td.kl_divergence(q_z, p_z).sum()\n",
        "    return BCE + KLD\n",
        "\n",
        "optimizer = torch.optim.Adam(vae.parameters(), lr=learning_rate)\n"
      ],
      "execution_count": null,
      "outputs": []
    },
    {
      "cell_type": "code",
      "metadata": {
        "id": "HPCusE1sL9pu",
        "colab": {
          "base_uri": "https://localhost:8080/"
        },
        "outputId": "44bf52ca-9961-4072-8071-880980bf7b46"
      },
      "source": [
        "for epoch in range(num_epochs):\n",
        "    now = time.time()\n",
        "    train_loss = 0\n",
        "    avg_loss = 0\n",
        "\n",
        "    for i, (batch_images, batch_labels) in enumerate(train_loader):\n",
        "\n",
        "        X = batch_images\n",
        "        if use_cuda:\n",
        "            X = X.to(device)\n",
        "\n",
        "        # forward 단계\n",
        "        # 1. input data를 모델에 통과시킵니다.\n",
        "        # 2. loss를 계산합니다.\n",
        "        Y_prediction, q_z = vae(X)\n",
        "        loss = criterion(Y_prediction, X, q_z)\n",
        "        # bacward 단계\n",
        "        # 1. backprop 단계를 실행하기 전에 변화도를 0으로 만듭니다.\n",
        "        # 2. 모델의 매개변수에 대한 손실의 변화도를 계산합니다.\n",
        "        # 3. step 함수를 호출하면 매개변수가 갱신됩니다.\n",
        "        optimizer.zero_grad()\n",
        "        loss.backward()\n",
        "        optimizer.step()\n",
        "\n",
        "        train_loss += loss.item()\n",
        "\n",
        "    print(\"[Epoch: {:>4}] \\t loss = {:.4f} \\t time = {:.4f}\"\n",
        "            .format(epoch + 1, train_loss/len(train_loader.dataset), time.time()-now))\n",
        "\n",
        "print(\"Learning Finished!\")"
      ],
      "execution_count": null,
      "outputs": [
        {
          "output_type": "stream",
          "name": "stdout",
          "text": [
            "[Epoch:    1] \t loss = 192.2596 \t time = 9.2884\n",
            "[Epoch:    2] \t loss = 163.0684 \t time = 9.6955\n",
            "[Epoch:    3] \t loss = 156.4325 \t time = 9.7774\n",
            "[Epoch:    4] \t loss = 152.9194 \t time = 9.6269\n",
            "[Epoch:    5] \t loss = 150.2480 \t time = 9.7063\n",
            "[Epoch:    6] \t loss = 148.4280 \t time = 10.0675\n",
            "[Epoch:    7] \t loss = 146.9959 \t time = 9.6449\n",
            "[Epoch:    8] \t loss = 145.9558 \t time = 9.6907\n",
            "[Epoch:    9] \t loss = 145.1212 \t time = 9.7151\n",
            "[Epoch:   10] \t loss = 144.3702 \t time = 8.9744\n",
            "[Epoch:   11] \t loss = 143.6254 \t time = 9.5833\n",
            "[Epoch:   12] \t loss = 143.1416 \t time = 9.6920\n",
            "[Epoch:   13] \t loss = 142.5795 \t time = 10.3534\n",
            "[Epoch:   14] \t loss = 142.2298 \t time = 9.8728\n",
            "[Epoch:   15] \t loss = 141.6951 \t time = 9.4108\n",
            "[Epoch:   16] \t loss = 141.1920 \t time = 9.4670\n",
            "[Epoch:   17] \t loss = 141.0096 \t time = 9.6360\n",
            "[Epoch:   18] \t loss = 140.7449 \t time = 9.8415\n",
            "[Epoch:   19] \t loss = 140.4181 \t time = 9.6667\n",
            "[Epoch:   20] \t loss = 140.2497 \t time = 10.1962\n",
            "Learning Finished!\n"
          ]
        }
      ]
    },
    {
      "cell_type": "code",
      "metadata": {
        "id": "NoVmhAEj6mhK",
        "colab": {
          "base_uri": "https://localhost:8080/",
          "height": 268,
          "referenced_widgets": [
            "c12ba86e274040f9a8312f6ea6806a8c",
            "f1ae02e16f7a4f8286663a9f894f63b3",
            "4cecab7f125646ad905be3226d50df29",
            "0b185ba5ce80444f97d23a04ace005ce",
            "a714d60279f341c19d7cab9fe3178f0c",
            "7e4b18e7511c400e8bd3126d583d794d",
            "214558aba21245489dc115fd1e716f4f"
          ]
        },
        "outputId": "a8942bc6-1579-46e9-a12a-f6f1aae70ae3"
      },
      "source": [
        "import matplotlib.pyplot as plt\n",
        "from torchvision.transforms.functional import to_pil_image\n",
        "import ipywidgets as widgets\n",
        "\n",
        "def train_dataset_imshow(idx):\n",
        "  (image, label) = train_dataset[idx]\n",
        "  print('GT label:', label)\n",
        "\n",
        "  X         = torch.unsqueeze(image, 0).to(device) # batch size = 1\n",
        "  Y_pred, _ = vae(X)\n",
        "  Y_pred    = Y_pred.view(1, 28, 28)\n",
        "\n",
        "  input_img  = to_pil_image(X.squeeze())\n",
        "  output_img = to_pil_image(Y_pred.squeeze())\n",
        "\n",
        "  plt.subplot(121)\n",
        "  plt.imshow(input_img, cmap='gray')\n",
        "\n",
        "  plt.subplot(122)\n",
        "  plt.imshow(output_img, cmap='gray')\n",
        "\n",
        "  plt.show()\n",
        "\n",
        "widgets.interact(train_dataset_imshow, idx=widgets.IntSlider(min=0, max=len(train_dataset)-1, continuous_update=False))"
      ],
      "execution_count": null,
      "outputs": [
        {
          "output_type": "display_data",
          "data": {
            "text/plain": [
              "interactive(children=(IntSlider(value=0, continuous_update=False, description='idx', max=59999), Output()), _d…"
            ],
            "application/vnd.jupyter.widget-view+json": {
              "version_major": 2,
              "version_minor": 0,
              "model_id": "c12ba86e274040f9a8312f6ea6806a8c"
            }
          },
          "metadata": {}
        },
        {
          "output_type": "execute_result",
          "data": {
            "text/plain": [
              "<function __main__.train_dataset_imshow(idx)>"
            ]
          },
          "metadata": {},
          "execution_count": 21
        }
      ]
    },
    {
      "cell_type": "markdown",
      "metadata": {
        "id": "9Kky6F7aOahK"
      },
      "source": [
        "## TODO 2, 3.\n",
        "\n",
        "* 아래 코드를 참고하여 학습을 마친 Conditional VAE에 대해, representation $p(z)$가 조건별로 MNIST 훈련 데이터셋, 테스트 데이터셋 모두 다차원 normal distribution을 따르는지 확인한다.\n",
        "* MNIST 훈련 데이터셋, 테스트 데이터셋 별로 조건별로 representation p(z)의 분포를 가시화하고 결과에 대해 분석한다."
      ]
    },
    {
      "cell_type": "code",
      "metadata": {
        "id": "2qQGGAC36mi8",
        "colab": {
          "base_uri": "https://localhost:8080/"
        },
        "outputId": "8d8b1888-dc56-4f7c-b56e-b18ce8023e70"
      },
      "source": [
        "batch_images, batch_labels = next(iter(tmp_loader))\n",
        "\n",
        "batch_images, batch_labels = batch_images.to(device), batch_labels.to(device)\n",
        "\n",
        "\n",
        "\n",
        "print(y.shape)"
      ],
      "execution_count": null,
      "outputs": [
        {
          "output_type": "stream",
          "name": "stdout",
          "text": [
            "torch.Size([60000, 1, 28, 28])\n"
          ]
        }
      ]
    },
    {
      "cell_type": "code",
      "metadata": {
        "id": "oAlC1cyV6mlD",
        "colab": {
          "base_uri": "https://localhost:8080/",
          "height": 282
        },
        "outputId": "74770401-df5c-4eb1-e66b-f8abc377ce71"
      },
      "source": [
        "import matplotlib.pyplot as plt\n",
        "\n",
        "pt = z.cpu().detach().numpy()\n",
        "\n",
        "plt.plot(pt[:,0], pt[:,1], \"go\", alpha=0.1)"
      ],
      "execution_count": null,
      "outputs": [
        {
          "output_type": "execute_result",
          "data": {
            "text/plain": [
              "[<matplotlib.lines.Line2D at 0x7fb9a62d1ca0>]"
            ]
          },
          "metadata": {},
          "execution_count": 23
        },
        {
          "output_type": "display_data",
          "data": {
            "text/plain": [
              "<Figure size 432x288 with 1 Axes>"
            ],
            "image/png": "[encoded data removed]"
          },
          "metadata": {
            "needs_background": "light"
          }
        }
      ]
    },
    {
      "cell_type": "markdown",
      "metadata": {
        "id": "3a8gnWoXOakY"
      },
      "source": [
        "## TODO 4.\n",
        "\n",
        "z의 차원을 바꿔가며 실험해 보고 결과에 대해 분석한다."
      ]
    },
    {
      "cell_type": "code",
      "metadata": {
        "id": "aczp7FFBPU-5"
      },
      "source": [],
      "execution_count": null,
      "outputs": []
    },
    {
      "cell_type": "markdown",
      "metadata": {
        "id": "dNC-tH3TOann"
      },
      "source": [
        "## TODO 5.\n",
        "\n",
        "학습을 마친 Conditional VAE의 decoder만으로 generative model을 구성한다.\n",
        "<br/>\n",
        "이 때, $p(z)$에서 샘플링한 $z$값을 decoder의 입력으로 주었을 때 손글씨 숫자 이미지가 만들어지는지 확인한다."
      ]
    },
    {
      "cell_type": "code",
      "metadata": {
        "id": "X2DIIsXtSk7U"
      },
      "source": [
        "## TODO\n",
        "z =\n",
        "\n",
        "y =\n"
      ],
      "execution_count": null,
      "outputs": []
    },
    {
      "cell_type": "code",
      "metadata": {
        "colab": {
          "base_uri": "https://localhost:8080/",
          "height": 282
        },
        "id": "C-8DrUX1Smhp",
        "outputId": "040bced2-b40a-4fa2-f66e-a244018bb85b"
      },
      "source": [
        "## TODO\n",
        "import matplotlib.pyplot as plt\n",
        "\n",
        "img =\n",
        "plt.imshow(img.reshape(28,28), cmap='gray')"
      ],
      "execution_count": null,
      "outputs": [
        {
          "output_type": "execute_result",
          "data": {
            "text/plain": [
              "<matplotlib.image.AxesImage at 0x7fb98da715e0>"
            ]
          },
          "metadata": {},
          "execution_count": 25
        },
        {
          "output_type": "display_data",
          "data": {
            "text/plain": [
              "<Figure size 432x288 with 1 Axes>"
            ],
            "image/png": "[encoded data removed]"
          },
          "metadata": {
            "needs_background": "light"
          }
        }
      ]
    }
  ]
}