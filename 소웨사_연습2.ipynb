{
  "nbformat": 4,
  "nbformat_minor": 0,
  "metadata": {
    "colab": {
      "provenance": [],
      "authorship_tag": "ABX9TyMkVO+vbpakGs9CF9h6143C",
      "include_colab_link": true
    },
    "kernelspec": {
      "name": "python3",
      "display_name": "Python 3"
    },
    "language_info": {
      "name": "python"
    }
  },
  "cells": [
    {
      "cell_type": "markdown",
      "metadata": {
        "id": "view-in-github",
        "colab_type": "text"
      },
      "source": [
        "<a href=\"https://colab.research.google.com/github/so-yeon-hwang/DataScienceJobSalary/blob/main/%EC%86%8C%EC%9B%A8%EC%82%AC_%EC%97%B0%EC%8A%B52.ipynb\" target=\"_parent\"><img src=\"https://colab.research.google.com/assets/colab-badge.svg\" alt=\"Open In Colab\"/></a>"
      ]
    },
    {
      "cell_type": "code",
      "execution_count": null,
      "metadata": {
        "colab": {
          "base_uri": "https://localhost:8080/"
        },
        "id": "tQBIsVvgj1Hl",
        "outputId": "c17b6152-9bde-45f9-9c3d-1e97c75306cd"
      },
      "outputs": [
        {
          "output_type": "execute_result",
          "data": {
            "text/plain": [
              "{'a': '123', 'b': '456', 'c': '789'}"
            ]
          },
          "metadata": {},
          "execution_count": 1
        }
      ],
      "source": [
        "numbers = {'a':'123','b':'456','c':'789'}\n",
        "numbers"
      ]
    },
    {
      "cell_type": "code",
      "source": [
        "friends = list(numbers.keys())\n",
        "friends"
      ],
      "metadata": {
        "colab": {
          "base_uri": "https://localhost:8080/"
        },
        "id": "qWQCl7O9j9wR",
        "outputId": "b1b98b29-30b8-4e64-d6f0-c2fd2152266e"
      },
      "execution_count": null,
      "outputs": [
        {
          "output_type": "execute_result",
          "data": {
            "text/plain": [
              "['a', 'b', 'c']"
            ]
          },
          "metadata": {},
          "execution_count": 3
        }
      ]
    },
    {
      "cell_type": "code",
      "source": [
        "numbers['a']"
      ],
      "metadata": {
        "colab": {
          "base_uri": "https://localhost:8080/",
          "height": 35
        },
        "id": "85WjUwWXkoul",
        "outputId": "c06ff2ee-eee5-42b6-e9c1-1c0435b39da3"
      },
      "execution_count": null,
      "outputs": [
        {
          "output_type": "execute_result",
          "data": {
            "text/plain": [
              "'123'"
            ],
            "application/vnd.google.colaboratory.intrinsic+json": {
              "type": "string"
            }
          },
          "metadata": {},
          "execution_count": 4
        }
      ]
    },
    {
      "cell_type": "code",
      "source": [
        "friends[0]"
      ],
      "metadata": {
        "colab": {
          "base_uri": "https://localhost:8080/",
          "height": 35
        },
        "id": "sie09Dctkrj2",
        "outputId": "3320d435-ce00-4fc1-96cf-ec5e53573577"
      },
      "execution_count": null,
      "outputs": [
        {
          "output_type": "execute_result",
          "data": {
            "text/plain": [
              "'a'"
            ],
            "application/vnd.google.colaboratory.intrinsic+json": {
              "type": "string"
            }
          },
          "metadata": {},
          "execution_count": 5
        }
      ]
    },
    {
      "cell_type": "code",
      "source": [
        "friend = input('a,b,c중 친구를 고르세용 : ')\n",
        "\n",
        "\n",
        "if friend in friends:\n",
        "  print(numbers[friend]) # key를 통해 값을 가져와서 출력하자.\n",
        "else:\n",
        "  print('없는 친구댜옹 ')\n"
      ],
      "metadata": {
        "colab": {
          "base_uri": "https://localhost:8080/"
        },
        "id": "sYsYEQAHj_HT",
        "outputId": "83308e8f-ea8a-4bed-d722-e64dcf2ded0d"
      },
      "execution_count": null,
      "outputs": [
        {
          "output_type": "stream",
          "name": "stdout",
          "text": [
            "a,b,c중 친구를 고르세용 : d\n",
            "없는 친구댜옹 \n"
          ]
        }
      ]
    },
    {
      "cell_type": "code",
      "source": [
        "# 주소록 딕셔너리 생성 (이름을 키로, 연락처를 값으로 저장)\n",
        "address_book = {\n",
        "    '친구1': '010-1111-1111',\n",
        "    '친구2': '010-2222-2222',\n",
        "    '친구3': '010-3333-3333',\n",
        "}\n",
        "\n",
        "# 전체 친구의 이름을 리스트로 추출하여 출력\n",
        "friend_names = list(address_book.keys())\n",
        "print(\"주소록에 등록된 친구들의 이름:\")\n",
        "for name in friend_names:\n",
        "    print(name)\n",
        "\n",
        "# 찾고자 하는 친구의 이름 입력 받기\n",
        "search_name = input(\"검색할 친구의 이름을 입력하세요: \")\n",
        "\n",
        "# 입력받은 이름으로 주소록에서 연락처 찾기\n",
        "if search_name in address_book:\n",
        "    contact = address_book[search_name]\n",
        "    print(f\"{search_name}의 연락처: {contact}\")\n",
        "else:\n",
        "    print(f\"{search_name}은(는) 주소록에 없습니다.\")\n"
      ],
      "metadata": {
        "colab": {
          "base_uri": "https://localhost:8080/"
        },
        "id": "zPNvIRDkmStp",
        "outputId": "2e7d9f1d-25d8-475a-90ac-0f3fdf092b1e"
      },
      "execution_count": null,
      "outputs": [
        {
          "output_type": "stream",
          "name": "stdout",
          "text": [
            "주소록에 등록된 친구들의 이름:\n",
            "친구1\n",
            "친구2\n",
            "친구3\n",
            "검색할 친구의 이름을 입력하세요: 친구4\n",
            "친구4은(는) 주소록에 없습니다.\n"
          ]
        }
      ]
    },
    {
      "cell_type": "code",
      "source": [
        "clubA = {'kim','park','hwang'}\n",
        "clubB = {'park','lee','choi'}\n",
        "\n",
        "clubC = clubA | clubB\n",
        "clubC"
      ],
      "metadata": {
        "colab": {
          "base_uri": "https://localhost:8080/"
        },
        "id": "BSrKo-OvmS8D",
        "outputId": "40a680bf-cbe4-45c1-b42d-697931fbb148"
      },
      "execution_count": null,
      "outputs": [
        {
          "output_type": "execute_result",
          "data": {
            "text/plain": [
              "{'choi', 'hwang', 'kim', 'lee', 'park'}"
            ]
          },
          "metadata": {},
          "execution_count": 17
        }
      ]
    },
    {
      "cell_type": "code",
      "source": [
        "clubA & clubB"
      ],
      "metadata": {
        "colab": {
          "base_uri": "https://localhost:8080/"
        },
        "id": "INptyADGqXHo",
        "outputId": "c61630b9-e7df-4249-ff62-215be79fc3c0"
      },
      "execution_count": null,
      "outputs": [
        {
          "output_type": "execute_result",
          "data": {
            "text/plain": [
              "{'park'}"
            ]
          },
          "metadata": {},
          "execution_count": 18
        }
      ]
    },
    {
      "cell_type": "code",
      "source": [
        "clubA - clubB"
      ],
      "metadata": {
        "colab": {
          "base_uri": "https://localhost:8080/"
        },
        "id": "FUdoSzAeqaJu",
        "outputId": "01d9f941-918c-47b5-a6ed-f8f9246d128c"
      },
      "execution_count": null,
      "outputs": [
        {
          "output_type": "execute_result",
          "data": {
            "text/plain": [
              "{'hwang', 'kim'}"
            ]
          },
          "metadata": {},
          "execution_count": 19
        }
      ]
    },
    {
      "cell_type": "code",
      "source": [
        "clubB - clubA"
      ],
      "metadata": {
        "colab": {
          "base_uri": "https://localhost:8080/"
        },
        "id": "On40dlKxqcs9",
        "outputId": "baaf4230-0d21-4ee7-a9f8-6129e2aba62a"
      },
      "execution_count": null,
      "outputs": [
        {
          "output_type": "execute_result",
          "data": {
            "text/plain": [
              "{'choi', 'lee'}"
            ]
          },
          "metadata": {},
          "execution_count": 20
        }
      ]
    },
    {
      "cell_type": "code",
      "source": [
        "clubA.add('kang')"
      ],
      "metadata": {
        "id": "ytIzIucDqeqG"
      },
      "execution_count": null,
      "outputs": []
    },
    {
      "cell_type": "code",
      "source": [
        "clubA"
      ],
      "metadata": {
        "colab": {
          "base_uri": "https://localhost:8080/"
        },
        "id": "DQLbmIoUqsfa",
        "outputId": "4df7c831-44eb-493b-f442-c80be19edf58"
      },
      "execution_count": null,
      "outputs": [
        {
          "output_type": "execute_result",
          "data": {
            "text/plain": [
              "{'hwang', 'kang', 'kim', 'park'}"
            ]
          },
          "metadata": {},
          "execution_count": 22
        }
      ]
    },
    {
      "cell_type": "code",
      "source": [
        "clubB.remove('lee')"
      ],
      "metadata": {
        "id": "SPz5s8N2qs-J"
      },
      "execution_count": null,
      "outputs": []
    },
    {
      "cell_type": "code",
      "source": [
        "clubB\n"
      ],
      "metadata": {
        "colab": {
          "base_uri": "https://localhost:8080/"
        },
        "id": "v_RszbXgqy9H",
        "outputId": "a590266f-9055-4005-f88a-38edf92052c9"
      },
      "execution_count": null,
      "outputs": [
        {
          "output_type": "execute_result",
          "data": {
            "text/plain": [
              "{'choi', 'park'}"
            ]
          },
          "metadata": {},
          "execution_count": 25
        }
      ]
    },
    {
      "cell_type": "code",
      "source": [
        "clubA, clubB"
      ],
      "metadata": {
        "colab": {
          "base_uri": "https://localhost:8080/"
        },
        "id": "bNCN3Tvwq1r9",
        "outputId": "876d2a1d-1a1a-449b-d119-bd4167fea2d9"
      },
      "execution_count": null,
      "outputs": [
        {
          "output_type": "execute_result",
          "data": {
            "text/plain": [
              "({'hwang', 'kang', 'kim', 'park'}, {'choi', 'park'})"
            ]
          },
          "metadata": {},
          "execution_count": 27
        }
      ]
    },
    {
      "cell_type": "code",
      "source": [
        "pocket = ['스마트폰','교통카드','현금']\n",
        "\n",
        "item = input('결제 수단 입력 : ')\n",
        "price = 20000\n",
        "\n",
        "if item in pocket and item =='현금':\n",
        "  print('택시')\n",
        "elif item in pocket and item =='교통카드':\n",
        "  print('버스')\n",
        "else:\n",
        "  print('뚜벅')"
      ],
      "metadata": {
        "colab": {
          "base_uri": "https://localhost:8080/"
        },
        "id": "3VbfmvR0q3PT",
        "outputId": "2365b1c0-0264-4095-97d0-c1b0fc267628"
      },
      "execution_count": null,
      "outputs": [
        {
          "output_type": "stream",
          "name": "stdout",
          "text": [
            "결제 수단 입력 : 교통카드\n",
            "버스\n"
          ]
        }
      ]
    },
    {
      "cell_type": "code",
      "source": [
        "# 중첩 선택문\n",
        "# if 문 안에 또 다른 if문을 중첩하여 표현하는 중첩 선택문\n",
        "\n",
        "import random\n",
        "rsp = ['가위','바위','보']\n",
        "\n",
        "com = random.choice(rsp)\n",
        "player = input('가위, 바위, 보 중 하나를 선택하시오 : ')\n",
        "\n",
        "if player == '가위':\n",
        "  if com == '가위':\n",
        "    result = '비김'\n",
        "  elif com == '보':\n",
        "    result = '이김'\n",
        "  elif com == '바위':\n",
        "    result = '짐'\n",
        "\n",
        "elif player =='바위':\n",
        "  if com == '가위':\n",
        "    result = '이김'\n",
        "  elif com == '보':\n",
        "    result = '짐'\n",
        "  elif com == '바위':\n",
        "    result = '비김'\n",
        "\n",
        "elif player =='보':\n",
        "  if com == '가위':\n",
        "    result = '짐'\n",
        "  elif com == '보':\n",
        "    result = '비김'\n",
        "  elif com == '바위':\n",
        "    result = '이김'\n",
        "\n",
        "if player in rsp:\n",
        "  print('나 : %s / 컴퓨터 : %s -> %s' %(player,com,result))"
      ],
      "metadata": {
        "colab": {
          "base_uri": "https://localhost:8080/"
        },
        "id": "Fl_tu0Wpr-5B",
        "outputId": "43e9d0de-6343-4410-bf9f-1bbd9506a896"
      },
      "execution_count": null,
      "outputs": [
        {
          "output_type": "stream",
          "name": "stdout",
          "text": [
            "가위, 바위, 보 중 하나를 선택하시오 : 보\n",
            "나 : 보 / 컴퓨터 : 가위 -> 짐\n"
          ]
        }
      ]
    },
    {
      "cell_type": "code",
      "source": [
        "import random\n",
        "\n",
        "t = [1,2,3]\n",
        "random.choice(t)"
      ],
      "metadata": {
        "colab": {
          "base_uri": "https://localhost:8080/"
        },
        "id": "oDZShWzfsf3q",
        "outputId": "9ffafe68-5602-422d-9484-c943f635408f"
      },
      "execution_count": null,
      "outputs": [
        {
          "output_type": "execute_result",
          "data": {
            "text/plain": [
              "2"
            ]
          },
          "metadata": {},
          "execution_count": 30
        }
      ]
    },
    {
      "cell_type": "code",
      "source": [
        "# 파선아실\n",
        "# 파라미터(매개변수), 선언 / 아규먼트(인수), 실행\n",
        "\n",
        "def greet(lang):\n",
        "  if lang == 1:\n",
        "    print('hola')\n",
        "  elif lang == 2:\n",
        "    print('Bonjour')\n",
        "  elif lang == 3:\n",
        "    print('안녕하세요')\n",
        "  else:\n",
        "    print('지원하지 않습니다')\n",
        "\n",
        "h = int(input('언어를 선택하세요 1EN / 2FR / 3KR : '))\n",
        "greet(h)"
      ],
      "metadata": {
        "colab": {
          "base_uri": "https://localhost:8080/"
        },
        "id": "EZNUlbdusfy_",
        "outputId": "2842af5e-05be-4470-fae2-6f7ac4977290"
      },
      "execution_count": null,
      "outputs": [
        {
          "output_type": "stream",
          "name": "stdout",
          "text": [
            "언어를 선택하세요 1EN / 2FR / 3KR : 1\n",
            "hola\n"
          ]
        }
      ]
    },
    {
      "cell_type": "markdown",
      "source": [
        "# 보강영상(1) 조건문(선택문)"
      ],
      "metadata": {
        "id": "qQoCEUI_vy_e"
      }
    },
    {
      "cell_type": "code",
      "source": [
        "# 문제1) 양수/음수/0 판별 if문\n",
        "\n",
        "num = int(input('정수 입력 : '))\n",
        "\n",
        "if num > 0 :\n",
        "  print('%d은 양수' % num)\n",
        "elif num < 0 :\n",
        "  print('%d은 음수' % num)\n",
        "else:\n",
        "  print('%d은 0이다' % num)\n"
      ],
      "metadata": {
        "colab": {
          "base_uri": "https://localhost:8080/"
        },
        "id": "at2qxIRIvp0m",
        "outputId": "d9417534-f6a0-4515-e72c-481c36a95c39"
      },
      "execution_count": null,
      "outputs": [
        {
          "output_type": "stream",
          "name": "stdout",
          "text": [
            "정수 입력 : -3\n",
            "-3은 음수\n"
          ]
        }
      ]
    },
    {
      "cell_type": "code",
      "source": [
        "# 문제2) 짝수 홀수 판별\n",
        "\n",
        "num = int(input('정수 입력 : '))\n",
        "if num % 2 == 0:\n",
        "  print('%d은 짝수' % num)\n",
        "else :\n",
        "  print('%d은 홀수' % num)"
      ],
      "metadata": {
        "colab": {
          "base_uri": "https://localhost:8080/"
        },
        "id": "ZDnuY5R0wF8D",
        "outputId": "c0a7c6c9-fb3a-4d76-e199-0636c80e420e"
      },
      "execution_count": null,
      "outputs": [
        {
          "output_type": "stream",
          "name": "stdout",
          "text": [
            "정수 입력 : 3\n",
            "3은 홀수\n"
          ]
        }
      ]
    },
    {
      "cell_type": "code",
      "source": [
        "# 실습문제 7\n",
        "\n",
        "spot = input(' 한국or제주도or해외 중 장소를 입력하세요 : ')\n",
        "\n",
        "if spot == '한국':\n",
        "  print('배송비는 5000원')\n",
        "elif spot =='제주도':\n",
        "  print('배송비는 10000원')\n",
        "elif spot =='해외':\n",
        "  print('배송비는 20000원')"
      ],
      "metadata": {
        "colab": {
          "base_uri": "https://localhost:8080/"
        },
        "id": "TZltBFiKwdPC",
        "outputId": "2acb6941-e2e4-415f-96a7-6c0859fc5520"
      },
      "execution_count": null,
      "outputs": [
        {
          "output_type": "stream",
          "name": "stdout",
          "text": [
            " 한국or제주도or해외 중 장소를 입력하세요 : 해외\n",
            "배송비는 20000원\n"
          ]
        }
      ]
    },
    {
      "cell_type": "code",
      "source": [
        "country = input('국가를 입력하시오')\n",
        "\n",
        "if country == '한국':\n",
        "  specific = input('지역을 입력하시오:')\n",
        "  if specific == '제주':\n",
        "    print('배송비는 10000원 입니다')\n",
        "  else :\n",
        "    print('배송비는 5000원 입니다')\n",
        "else :\n",
        "  print('배송비는 20000원 입니다')"
      ],
      "metadata": {
        "colab": {
          "base_uri": "https://localhost:8080/"
        },
        "id": "mKZX0hytyEfK",
        "outputId": "4faae580-982b-45da-dfd6-fb0ae700d6f2"
      },
      "execution_count": null,
      "outputs": [
        {
          "output_type": "stream",
          "name": "stdout",
          "text": [
            "국가를 입력하시오미국\n",
            "배송비는 20000원 입니다\n"
          ]
        }
      ]
    },
    {
      "cell_type": "markdown",
      "source": [
        "# 보강영상(2) 반복문"
      ],
      "metadata": {
        "id": "OCGxyD1HynNu"
      }
    },
    {
      "cell_type": "code",
      "source": [
        "## 문제 1 ##\n",
        "\n",
        "i = 0\n",
        "hap = 0\n",
        "\n",
        "num1 = 0\n",
        "num2 = 0\n",
        "num3 = 0\n",
        "\n",
        "num1 = int(input('시작값을 입력하세요 : '))\n",
        "num2 = int(input('끝값을 입력하세요 : '))\n",
        "num3 = int(input('증가값을 입력하세요 : '))\n",
        "\n",
        "for i in range(num1,num2 + 1,num3):\n",
        "  hap = hap + i\n",
        "\n",
        "hap"
      ],
      "metadata": {
        "colab": {
          "base_uri": "https://localhost:8080/"
        },
        "id": "VA7sRnxqyf6L",
        "outputId": "fa5ea4be-c836-4d1a-9f28-2a174eaaef38"
      },
      "execution_count": null,
      "outputs": [
        {
          "name": "stdout",
          "output_type": "stream",
          "text": [
            "시작값을 입력하세요 : 1\n",
            "끝값을 입력하세요 : 10\n",
            "증가값을 입력하세요 : 2\n"
          ]
        },
        {
          "output_type": "execute_result",
          "data": {
            "text/plain": [
              "25"
            ]
          },
          "metadata": {},
          "execution_count": 45
        }
      ]
    },
    {
      "cell_type": "code",
      "source": [
        "i = 0\n",
        "hap = 0"
      ],
      "metadata": {
        "id": "J5WlOuhV0e7d"
      },
      "execution_count": null,
      "outputs": []
    },
    {
      "cell_type": "code",
      "source": [
        "i = num1\n",
        "\n",
        "while i < num2 + 1 :\n",
        "  hap = hap + i\n",
        "  i = i + num3\n",
        "\n",
        "print(hap)"
      ],
      "metadata": {
        "colab": {
          "base_uri": "https://localhost:8080/"
        },
        "id": "wj9VGl9Dz7gK",
        "outputId": "42347dd2-7b96-4378-bd6f-1b7cf3258b83"
      },
      "execution_count": null,
      "outputs": [
        {
          "output_type": "stream",
          "name": "stdout",
          "text": [
            "25\n"
          ]
        }
      ]
    },
    {
      "cell_type": "code",
      "source": [
        "## 문제 2 ##\n",
        "\n",
        "hap = 0\n",
        "a = 0\n",
        "b = 0\n",
        "\n",
        "while True :\n",
        "  a = input('첫 번째로 더할 수를 입력하시오')\n",
        "  if a == '$': # b에서 $ 나오는 것은 어차피 다루지도 않음 ㅄ\n",
        "    break\n",
        "\n",
        "  b = int(input('두 번째로 더할 수를 입력하시오'))\n",
        "  a = int(a)\n",
        "\n",
        "  hap = a + b\n",
        "  print('%d + %d = %d' %(a,b,hap))\n",
        "\n",
        "print('$을 입력해 반복문을 탈출했습니다.')"
      ],
      "metadata": {
        "colab": {
          "base_uri": "https://localhost:8080/"
        },
        "id": "2eWAGGB60K6Q",
        "outputId": "cff2e865-3667-430b-f1f6-65d2a04087f2"
      },
      "execution_count": null,
      "outputs": [
        {
          "output_type": "stream",
          "name": "stdout",
          "text": [
            "첫 번째로 더할 수를 입력하시오3\n",
            "두 번째로 더할 수를 입력하시오3\n",
            "3 + 3 = 6\n",
            "첫 번째로 더할 수를 입력하시오$\n",
            "$을 입력해 반복문을 탈출했습니다.\n"
          ]
        }
      ]
    },
    {
      "cell_type": "code",
      "source": [
        "3"
      ],
      "metadata": {
        "colab": {
          "base_uri": "https://localhost:8080/"
        },
        "id": "6JVsEPxF1H--",
        "outputId": "280e7941-e108-472b-83af-24e9134431a2"
      },
      "execution_count": null,
      "outputs": [
        {
          "output_type": "execute_result",
          "data": {
            "text/plain": [
              "3"
            ]
          },
          "metadata": {},
          "execution_count": 53
        }
      ]
    },
    {
      "cell_type": "code",
      "source": [
        "## 문제 3 ##\n",
        "\n",
        "hap = 0\n",
        "i = 0\n",
        "\n",
        "for i in range(1,101):\n",
        "  hap += i\n",
        "  if hap >= 1000 :\n",
        "    break\n",
        "\n",
        "print('1~100의 합계를 최초로 1000이 넘게 하는 숫자 %d' %i)"
      ],
      "metadata": {
        "colab": {
          "base_uri": "https://localhost:8080/"
        },
        "id": "nOLhbyC41f0H",
        "outputId": "c58ef4f2-32e4-4a0c-b87b-5cefb4c23b2b"
      },
      "execution_count": null,
      "outputs": [
        {
          "output_type": "stream",
          "name": "stdout",
          "text": [
            "1~100의 합계를 최초로 1000이 넘게 하는 숫자 45\n"
          ]
        }
      ]
    },
    {
      "cell_type": "code",
      "source": [
        "###### 문제 3 정답 ######\n",
        "hap = 0\n",
        "i = 0\n",
        "\n",
        "while i < 101 :\n",
        "  hap = hap + i\n",
        "  if hap >= 1000:\n",
        "    break\n",
        "  i = i + 1\n",
        "\n",
        "print('1~100의 합계를 최초로 1000이 넘게 하는 숫자 %d' %i)"
      ],
      "metadata": {
        "colab": {
          "base_uri": "https://localhost:8080/"
        },
        "id": "1P8-aFLy1urj",
        "outputId": "5c46d520-b585-49a5-e89d-d1d55ecbbed9"
      },
      "execution_count": null,
      "outputs": [
        {
          "output_type": "stream",
          "name": "stdout",
          "text": [
            "1~100의 합계를 최초로 1000이 넘게 하는 숫자 45\n"
          ]
        }
      ]
    },
    {
      "cell_type": "code",
      "source": [
        "i = 0\n",
        "k = 0\n",
        "\n",
        "for i in range(0,9,1):\n",
        "  if i < 5:\n",
        "    k = 0\n",
        "    for k in range(0,4-i,1):\n",
        "      print(' ',end ='')\n",
        "    k = 0\n",
        "    for k in range(0,i*2+1,1):\n",
        "      print('\\u2665',end='')\n",
        "  print()"
      ],
      "metadata": {
        "colab": {
          "base_uri": "https://localhost:8080/"
        },
        "id": "dCD2Da3Q2du6",
        "outputId": "817f23fd-c0d1-4a48-8832-306265d71cda"
      },
      "execution_count": null,
      "outputs": [
        {
          "output_type": "stream",
          "name": "stdout",
          "text": [
            "    ♥\n",
            "   ♥♥♥\n",
            "  ♥♥♥♥♥\n",
            " ♥♥♥♥♥♥♥\n",
            "♥♥♥♥♥♥♥♥♥\n",
            "\n",
            "\n",
            "\n",
            "\n"
          ]
        }
      ]
    },
    {
      "cell_type": "code",
      "source": [
        "def dictionary_function(**para):\n",
        "  for key in para.keys():\n",
        "    print(\"%s 그룹은 %d 명의 멤버가 있습니다.\" % (key,para[key]))\n",
        "\n",
        "# dictionary_function({'트와이스':9,'에스파':4,'레드벨벳':5,'러블리즈':8})\n",
        "dictionary_function(트와이스 = 9, 에스파 = 4, 레드벨벳 = 5) ### 외우기"
      ],
      "metadata": {
        "id": "Rl4VhSLp3Djz",
        "colab": {
          "base_uri": "https://localhost:8080/"
        },
        "outputId": "f79541cd-739e-4a57-f032-67b015bc472c"
      },
      "execution_count": null,
      "outputs": [
        {
          "output_type": "stream",
          "name": "stdout",
          "text": [
            "트와이스 그룹은 9 명의 멤버가 있습니다.\n",
            "에스파 그룹은 4 명의 멤버가 있습니다.\n",
            "레드벨벳 그룹은 5 명의 멤버가 있습니다.\n"
          ]
        }
      ]
    },
    {
      "cell_type": "code",
      "source": [],
      "metadata": {
        "id": "ZbitHHOnDxHL"
      },
      "execution_count": null,
      "outputs": []
    },
    {
      "cell_type": "code",
      "source": [
        "def member_num(**para):\n",
        "  for i in para.keys():\n",
        "    print('%s 그룹의 멤버 수는 %d 명 입니다' % (i,para[i]))\n",
        "\n",
        "member_num(러블리즈 = 8 , 에스파 = 4, 르세라핌 = 5)"
      ],
      "metadata": {
        "colab": {
          "base_uri": "https://localhost:8080/"
        },
        "id": "VakKNQaoDxEU",
        "outputId": "95a769f0-2f0e-4d5d-d010-a632f5df685a"
      },
      "execution_count": null,
      "outputs": [
        {
          "output_type": "stream",
          "name": "stdout",
          "text": [
            "러블리즈 그룹의 멤버 수는 8 명 입니다\n",
            "에스파 그룹의 멤버 수는 4 명 입니다\n",
            "르세라핌 그룹의 멤버 수는 5 명 입니다\n"
          ]
        }
      ]
    },
    {
      "cell_type": "code",
      "source": [
        "def member_count(**para):\n",
        "  for i in para.keys():\n",
        "    print('%s 그룹의 멤버 수는 %d명 입니다' % (i,para[i]))"
      ],
      "metadata": {
        "id": "wcUFD9dwDxCH"
      },
      "execution_count": null,
      "outputs": []
    },
    {
      "cell_type": "code",
      "source": [
        "member_count(에스파 = 4, 러블리즈 = 8)"
      ],
      "metadata": {
        "colab": {
          "base_uri": "https://localhost:8080/"
        },
        "id": "n9mkzwIpDfRk",
        "outputId": "1f069bc2-231f-44f7-c854-5e48a28ac180"
      },
      "execution_count": null,
      "outputs": [
        {
          "output_type": "stream",
          "name": "stdout",
          "text": [
            "에스파 그룹의 멤버 수는 4명 입니다\n",
            "러블리즈 그룹의 멤버 수는 8명 입니다\n"
          ]
        }
      ]
    },
    {
      "cell_type": "code",
      "source": [],
      "metadata": {
        "id": "EntnZh_UEcUh"
      },
      "execution_count": null,
      "outputs": []
    },
    {
      "cell_type": "code",
      "source": [
        "# 딕셔너리형태를 파라미터로 전달하는 함수 만들기\n",
        "def member_count(**para):\n",
        "  for i in para.keys():\n",
        "    print('%s 그룹의 멤버 수는 %d 명 입니다' %(i,para[i]))\n",
        "\n",
        "member_count(러블리즈=8,에스파=4) # 매개변수 형식 : 키 ="
      ],
      "metadata": {
        "colab": {
          "base_uri": "https://localhost:8080/"
        },
        "id": "LwdsnlezGk4d",
        "outputId": "1260d851-01af-4564-f34a-f0073db51cfa"
      },
      "execution_count": null,
      "outputs": [
        {
          "output_type": "stream",
          "name": "stdout",
          "text": [
            "러블리즈 그룹의 멤버 수는 8 명 입니다\n",
            "에스파 그룹의 멤버 수는 4 명 입니다\n"
          ]
        }
      ]
    },
    {
      "cell_type": "code",
      "source": [
        "def sum_nums(*para):\n",
        "  sum = 0\n",
        "  for i in para :\n",
        "    sum = sum + i\n",
        "  return sum\n",
        "\n",
        "sum_nums(1,2,3,4)"
      ],
      "metadata": {
        "colab": {
          "base_uri": "https://localhost:8080/"
        },
        "id": "JG0faVPoGk2P",
        "outputId": "e0e2d4bb-a224-477a-d056-2bead170a14d"
      },
      "execution_count": null,
      "outputs": [
        {
          "output_type": "execute_result",
          "data": {
            "text/plain": [
              "10"
            ]
          },
          "metadata": {},
          "execution_count": 12
        }
      ]
    },
    {
      "cell_type": "code",
      "source": [
        "result = sum_nums(10,20,30,40,50,60,70,80,90,100)\n",
        "print(result)"
      ],
      "metadata": {
        "colab": {
          "base_uri": "https://localhost:8080/"
        },
        "id": "8p5-z3EvHVkY",
        "outputId": "95539f82-8a75-4bea-d097-44076471ae67"
      },
      "execution_count": null,
      "outputs": [
        {
          "output_type": "stream",
          "name": "stdout",
          "text": [
            "550\n"
          ]
        }
      ]
    },
    {
      "cell_type": "code",
      "source": [
        "import random\n",
        "\n",
        "def getNumber():\n",
        "  return random.randrange(1,46)\n",
        "\n",
        "lotto = []\n",
        "num = 0\n",
        "\n",
        "print('로또 추첨을 시작합니다')\n",
        "while True :\n",
        "  num = getNumber()\n",
        "\n",
        "  if lotto.count(num) == 0: # 로또 리스트에 num이 없다면\n",
        "    lotto.append(num)\n",
        "\n",
        "  if len(lotto) >= 6 :\n",
        "    break\n",
        "\n",
        "print('추첨된 로또 번호 >> ',end='')\n",
        "lotto.sort()\n",
        "for i in range(0,6):\n",
        "  print('%d,' % lotto[i], end='')"
      ],
      "metadata": {
        "colab": {
          "base_uri": "https://localhost:8080/"
        },
        "id": "ngjEtZ-EI-O_",
        "outputId": "49757541-dcec-4f6e-f972-fe5c77cf7643"
      },
      "execution_count": null,
      "outputs": [
        {
          "output_type": "stream",
          "name": "stdout",
          "text": [
            "로또 추첨을 시작합니다\n",
            "추첨된 로또 번호 >> 6,19,29,32,39,44,"
          ]
        }
      ]
    },
    {
      "cell_type": "code",
      "source": [
        "import random\n",
        "\n",
        "def lottery():\n",
        "  return random.randrange(1,46)\n",
        "\n",
        "lotto2 = []\n",
        "num = 0\n",
        "\n",
        "while True:\n",
        "  num = lottery()\n",
        "\n",
        "  if lotto2.count(num) == 0:\n",
        "    lotto2.append(num)\n",
        "\n",
        "  if len(lotto2) >= 6:\n",
        "    break\n",
        "\n",
        "lotto.sort()\n",
        "print('로또 추첨 결과 :',end='')\n",
        "for i in range(6):\n",
        "  print(' %d ' % lotto2[i], end='')"
      ],
      "metadata": {
        "colab": {
          "base_uri": "https://localhost:8080/"
        },
        "id": "Q-m7eNh6JahN",
        "outputId": "18e2bdb2-e717-4d96-b625-8235546bc115"
      },
      "execution_count": null,
      "outputs": [
        {
          "output_type": "stream",
          "name": "stdout",
          "text": [
            "로또 추첨 결과 : 31  25  20  9  39  6 "
          ]
        }
      ]
    },
    {
      "cell_type": "code",
      "source": [],
      "metadata": {
        "id": "z5H2X5-xL2nD"
      },
      "execution_count": null,
      "outputs": []
    },
    {
      "cell_type": "code",
      "source": [],
      "metadata": {
        "id": "1JlV0RyWL2k3"
      },
      "execution_count": null,
      "outputs": []
    },
    {
      "cell_type": "code",
      "source": [],
      "metadata": {
        "id": "nQEaYtqLL3up"
      },
      "execution_count": null,
      "outputs": []
    },
    {
      "cell_type": "code",
      "source": [],
      "metadata": {
        "id": "vI7cgrFXL3sj"
      },
      "execution_count": null,
      "outputs": []
    },
    {
      "cell_type": "code",
      "source": [],
      "metadata": {
        "id": "qJ9JPJMKL3qy"
      },
      "execution_count": null,
      "outputs": []
    },
    {
      "cell_type": "code",
      "source": [
        "import random\n",
        "def lotto_num():\n",
        "  return random.randrange(1,46)\n",
        "\n",
        "num = 0\n",
        "numbers = []\n",
        "\n",
        "while True:\n",
        "  num = lotto_num()\n",
        "  if numbers.count(num) == 0:\n",
        "    numbers.append(num)\n",
        "  if len(numbers) >= 6:\n",
        "    break\n",
        "\n",
        "print('로또 추첨을 시작합니다.')\n",
        "\n",
        "numbers.sort()\n",
        "print('추첨 번호 : ',end='')\n",
        "for i in numbers:\n",
        "  print(' %d '% i,end='')"
      ],
      "metadata": {
        "colab": {
          "base_uri": "https://localhost:8080/"
        },
        "id": "YQPc2_0YL2io",
        "outputId": "3ccfa05b-3d35-42a5-c35e-e061ddb9d6f0"
      },
      "execution_count": null,
      "outputs": [
        {
          "output_type": "stream",
          "name": "stdout",
          "text": [
            "로또 추첨을 시작합니다.\n",
            "추첨 번호 :  8  14  20  22  31  40 "
          ]
        }
      ]
    },
    {
      "cell_type": "code",
      "source": [],
      "metadata": {
        "id": "RPSNErLTNOph"
      },
      "execution_count": null,
      "outputs": []
    },
    {
      "cell_type": "code",
      "source": [],
      "metadata": {
        "id": "d_Y1kFXxNOnf"
      },
      "execution_count": null,
      "outputs": []
    },
    {
      "cell_type": "code",
      "source": [
        "import random\n",
        "\n",
        "def random_number():\n",
        "  return random.randrange(1,46)\n",
        "\n",
        "num = 0\n",
        "lottery_list = []\n",
        "\n",
        "while True:\n",
        "  num = random_number()\n",
        "\n",
        "  if lottery_list.count(num) == 0:\n",
        "    lottery_list.append(num)\n",
        "  if len(lottery_list) >= 6:\n",
        "    break\n",
        "\n",
        "print('===로또 추첨을 시작합니댜옹===')\n",
        "print('결과 : ',end ='')\n",
        "\n",
        "for i in lottery_list:\n",
        "  print(' %d ' % i,end='')\n"
      ],
      "metadata": {
        "colab": {
          "base_uri": "https://localhost:8080/"
        },
        "id": "bgw7KXoTNFOe",
        "outputId": "1dc742f2-fcd7-4ff2-d91c-cb970d254c4a"
      },
      "execution_count": null,
      "outputs": [
        {
          "output_type": "stream",
          "name": "stdout",
          "text": [
            "===로또 추첨을 시작합니댜옹===\n",
            "결과 :  28  9  27  19  10  36 "
          ]
        }
      ]
    },
    {
      "cell_type": "code",
      "source": [
        "print(2^3) # 비트연산"
      ],
      "metadata": {
        "colab": {
          "base_uri": "https://localhost:8080/"
        },
        "id": "BRbe6iixOZG7",
        "outputId": "d90bde9a-4575-411c-ec9b-09de7ce206aa"
      },
      "execution_count": null,
      "outputs": [
        {
          "output_type": "stream",
          "name": "stdout",
          "text": [
            "1\n"
          ]
        }
      ]
    },
    {
      "cell_type": "code",
      "source": [
        "a = 16 + 4 + 2 + 1 # 23\n",
        "b = 0 + 4 + 0 + 1 # 5\n",
        "print(\"a & b =\", a & b, \" Binary =\", bin(a & b))"
      ],
      "metadata": {
        "id": "ZbtxodZKPZIO",
        "colab": {
          "base_uri": "https://localhost:8080/"
        },
        "outputId": "c3407b1d-09b8-46b1-f709-014ba5ce0644"
      },
      "execution_count": null,
      "outputs": [
        {
          "output_type": "stream",
          "name": "stdout",
          "text": [
            "a & b = 5  Binary = 0b101\n"
          ]
        }
      ]
    },
    {
      "cell_type": "code",
      "source": [
        "print(\"a | b =\", a | b, \" Binary =\", bin(a | b))"
      ],
      "metadata": {
        "colab": {
          "base_uri": "https://localhost:8080/"
        },
        "id": "LnIuLDJbRok5",
        "outputId": "b50416fa-b6bc-484b-9bb8-a6e0b3389c50"
      },
      "execution_count": null,
      "outputs": [
        {
          "output_type": "stream",
          "name": "stdout",
          "text": [
            "a | b = 23  Binary = 0b10111\n"
          ]
        }
      ]
    },
    {
      "cell_type": "code",
      "source": [
        "~b"
      ],
      "metadata": {
        "colab": {
          "base_uri": "https://localhost:8080/"
        },
        "id": "eG1mtvJQS4Uy",
        "outputId": "489dbd56-d7af-41b6-a192-80b1b0517420"
      },
      "execution_count": null,
      "outputs": [
        {
          "output_type": "execute_result",
          "data": {
            "text/plain": [
              "-6"
            ]
          },
          "metadata": {},
          "execution_count": 30
        }
      ]
    },
    {
      "cell_type": "code",
      "source": [
        "1<<2"
      ],
      "metadata": {
        "colab": {
          "base_uri": "https://localhost:8080/"
        },
        "id": "TChK0lkCS4uP",
        "outputId": "18365e29-a6ad-4d1f-de3b-2e078503c9ee"
      },
      "execution_count": null,
      "outputs": [
        {
          "output_type": "execute_result",
          "data": {
            "text/plain": [
              "4"
            ]
          },
          "metadata": {},
          "execution_count": 31
        }
      ]
    },
    {
      "cell_type": "code",
      "source": [
        "bin(-3)"
      ],
      "metadata": {
        "colab": {
          "base_uri": "https://localhost:8080/",
          "height": 35
        },
        "id": "8T6l9pnjTxfG",
        "outputId": "19b473c3-88df-4cbb-b0ef-bbcb168502d3"
      },
      "execution_count": null,
      "outputs": [
        {
          "output_type": "execute_result",
          "data": {
            "text/plain": [
              "'-0b11'"
            ],
            "application/vnd.google.colaboratory.intrinsic+json": {
              "type": "string"
            }
          },
          "metadata": {},
          "execution_count": 32
        }
      ]
    },
    {
      "cell_type": "code",
      "source": [
        "-0b11"
      ],
      "metadata": {
        "colab": {
          "base_uri": "https://localhost:8080/"
        },
        "id": "h-q4JAwkT8Iw",
        "outputId": "df090974-ebc0-4197-abf5-69cc72d8784c"
      },
      "execution_count": null,
      "outputs": [
        {
          "output_type": "execute_result",
          "data": {
            "text/plain": [
              "-3"
            ]
          },
          "metadata": {},
          "execution_count": 33
        }
      ]
    },
    {
      "cell_type": "code",
      "source": [
        "hap = 0\n",
        "a = 0\n",
        "b = 0\n",
        "\n",
        "while True :\n",
        "  a = input('더할 첫 번째 수를 입력하세요 : ')\n",
        "  if a == '$' or b =='$' :\n",
        "    break\n",
        "  b = input('더할 두 번째 수를 입력하세요 : ')\n",
        "  hap = int(a) + int(b)\n",
        "  print('%d + %d = %d' %(int(a),int(b),int(hap)))\n",
        "\n",
        "print(\"$을 입력해 반복문을 탈출했습니다\")\n",
        "\n"
      ],
      "metadata": {
        "colab": {
          "base_uri": "https://localhost:8080/"
        },
        "id": "JWa2-uGOUAus",
        "outputId": "edd694bc-c76c-4121-f412-f2fb2defc27b"
      },
      "execution_count": null,
      "outputs": [
        {
          "output_type": "stream",
          "name": "stdout",
          "text": [
            "더할 첫 번째 수를 입력하세요 : 1\n",
            "더할 두 번째 수를 입력하세요 : 3\n",
            "1 + 3 = 4\n",
            "더할 첫 번째 수를 입력하세요 : 3\n",
            "더할 두 번째 수를 입력하세요 : 5\n",
            "3 + 5 = 8\n",
            "더할 첫 번째 수를 입력하세요 : $\n",
            "$을 입력해 반복문을 탈출했습니다\n"
          ]
        }
      ]
    },
    {
      "cell_type": "code",
      "source": [
        "# 반복문 과제\n",
        "# 문제1\n",
        "i = 0\n",
        "sum = 0\n",
        "\n",
        "num1, num2, num3 = 0,0,0\n",
        "\n",
        "num1 = int(input('시작값을 입력하세요 : '))\n",
        "num2 = int(input('끝값을 입력하세요 : '))\n",
        "num3 = int(input('증가값을 입력하세요 : '))\n",
        "\n",
        "for i in range(num1,num2+1,num3):\n",
        "  sum = sum + i\n",
        "\n",
        "print('%d에서 %d까지 %d씩 증가시킨 값의 합 : %d' %(num1,num2,num3,sum))"
      ],
      "metadata": {
        "colab": {
          "base_uri": "https://localhost:8080/"
        },
        "id": "-jvhGEVdV4hv",
        "outputId": "d719bbe6-eb4c-4d4e-aca5-ebe6533ac736"
      },
      "execution_count": null,
      "outputs": [
        {
          "output_type": "stream",
          "name": "stdout",
          "text": [
            "시작값을 입력하세요 : 1\n",
            "끝값을 입력하세요 : 5\n",
            "증가값을 입력하세요 : 1\n",
            "1에서 5까지 1씩 증가시킨 값의 합 : 15\n"
          ]
        }
      ]
    },
    {
      "cell_type": "code",
      "source": [
        "i = 0\n",
        "sum = 0\n",
        "\n",
        "num1, num2, num3 = 0,0,0\n",
        "\n",
        "num1 = int(input('시작값을 입력하세요 : '))\n",
        "num2 = int(input('끝값을 입력하세요 : '))\n",
        "num3 = int(input('증가값을 입력하세요 : '))\n",
        "\n",
        "while i < num2 + 1:\n",
        "  sum = sum + i\n",
        "  i = i + num3\n",
        "\n",
        "print(sum)"
      ],
      "metadata": {
        "colab": {
          "base_uri": "https://localhost:8080/"
        },
        "id": "0x1e4UQdWgB1",
        "outputId": "e1eaa77a-4a44-4946-db42-77be8395ec94"
      },
      "execution_count": null,
      "outputs": [
        {
          "output_type": "stream",
          "name": "stdout",
          "text": [
            "시작값을 입력하세요 : 1\n",
            "끝값을 입력하세요 : 5\n",
            "증가값을 입력하세요 : 1\n",
            "15\n"
          ]
        }
      ]
    },
    {
      "cell_type": "code",
      "source": [
        "sum, i = 0,0\n",
        "\n",
        "while i < 101:\n",
        "  i = i + 1\n",
        "  sum = sum + i\n",
        "\n",
        "  if sum >= 1000:\n",
        "    break\n",
        "\n",
        "print('1~100의 합계를 최초로 1000이 넘게 하는 숫자 : %d' % i)\n",
        "\n"
      ],
      "metadata": {
        "colab": {
          "base_uri": "https://localhost:8080/"
        },
        "id": "akFDcIsdXykF",
        "outputId": "f0d8ad54-75ff-47a3-d350-203227723d96"
      },
      "execution_count": null,
      "outputs": [
        {
          "output_type": "stream",
          "name": "stdout",
          "text": [
            "1~100의 합계를 최초로 1000이 넘게 하는 숫자 : 45\n"
          ]
        }
      ]
    },
    {
      "cell_type": "code",
      "source": [
        "a = [10, 20, 30, 40, 50]\n",
        "a[-1:-3]"
      ],
      "metadata": {
        "colab": {
          "base_uri": "https://localhost:8080/"
        },
        "id": "6XYfB_1oYZNn",
        "outputId": "0ff4343d-78f4-4fd4-b5e9-bec104bd8c4f"
      },
      "execution_count": null,
      "outputs": [
        {
          "output_type": "execute_result",
          "data": {
            "text/plain": [
              "[]"
            ]
          },
          "metadata": {},
          "execution_count": 42
        }
      ]
    },
    {
      "cell_type": "code",
      "source": [],
      "metadata": {
        "id": "xkQCDinkZ4If"
      },
      "execution_count": null,
      "outputs": []
    }
  ]
}